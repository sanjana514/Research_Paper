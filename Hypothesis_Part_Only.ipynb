{
  "nbformat": 4,
  "nbformat_minor": 0,
  "metadata": {
    "colab": {
      "provenance": [],
      "authorship_tag": "ABX9TyOnqRd3T5wRpGHSxH9B9rDj",
      "include_colab_link": true
    },
    "kernelspec": {
      "name": "python3",
      "display_name": "Python 3"
    },
    "language_info": {
      "name": "python"
    }
  },
  "cells": [
    {
      "cell_type": "markdown",
      "metadata": {
        "id": "view-in-github",
        "colab_type": "text"
      },
      "source": [
        "<a href=\"https://colab.research.google.com/github/sanjana514/Research_Paper/blob/main/Hypothesis_Part_Only.ipynb\" target=\"_parent\"><img src=\"https://colab.research.google.com/assets/colab-badge.svg\" alt=\"Open In Colab\"/></a>"
      ]
    },
    {
      "cell_type": "code",
      "execution_count": 8,
      "metadata": {
        "colab": {
          "base_uri": "https://localhost:8080/"
        },
        "id": "dKzQ0PZ7FIUK",
        "outputId": "6f417bad-c0d6-4c79-b013-756ef3aeb703"
      },
      "outputs": [
        {
          "output_type": "stream",
          "name": "stdout",
          "text": [
            "/usr/local/lib/python3.11/dist-packages/gdown/__main__.py:140: FutureWarning: Option `--id` was deprecated in version 4.3.1 and will be removed in 5.0. You don't need to pass it anymore to use a file ID.\n",
            "  warnings.warn(\n",
            "Downloading...\n",
            "From: https://drive.google.com/uc?id=117TRItVrbno7pgpf9xJJX2RpJ8Wdqis2\n",
            "To: /content/df_capped.csv\n",
            "100% 6.12M/6.12M [00:00<00:00, 248MB/s]\n"
          ]
        }
      ],
      "source": [
        "!gdown --id 117TRItVrbno7pgpf9xJJX2RpJ8Wdqis2"
      ]
    },
    {
      "cell_type": "code",
      "source": [
        "import pandas as pd\n",
        "import numpy as np"
      ],
      "metadata": {
        "id": "4oWhn6hEFiRa"
      },
      "execution_count": 9,
      "outputs": []
    },
    {
      "cell_type": "code",
      "source": [
        "df_capped=pd.read_csv('df_capped.csv')\n",
        "df_capped.head()"
      ],
      "metadata": {
        "colab": {
          "base_uri": "https://localhost:8080/",
          "height": 310
        },
        "id": "gSW2MGhuFVMx",
        "outputId": "e39df75f-5025-483c-9967-e7693f779ac2"
      },
      "execution_count": 10,
      "outputs": [
        {
          "output_type": "execute_result",
          "data": {
            "text/plain": [
              "         Date Store ID Product ID     Category Region  Inventory Level  \\\n",
              "0  2022-01-01     S001      P0001    Groceries  North              231   \n",
              "1  2022-01-01     S001      P0002         Toys  South              204   \n",
              "2  2022-01-01     S001      P0003         Toys   West              102   \n",
              "3  2022-01-01     S001      P0004         Toys  North              469   \n",
              "4  2022-01-01     S001      P0005  Electronics   East              166   \n",
              "\n",
              "   Units Sold  Units Ordered  Demand Forecast  Price  Discount  \\\n",
              "0         127             55           135.47  33.50        20   \n",
              "1         150             66           144.04  63.01        20   \n",
              "2          65             51            74.02  27.99        10   \n",
              "3          61            164            62.18  32.72        10   \n",
              "4          14            135             9.26  73.64         0   \n",
              "\n",
              "  Weather Condition  Holiday/Promotion  Competitor Pricing Seasonality  \n",
              "0             Rainy                  0               29.69      Autumn  \n",
              "1             Sunny                  0               66.16      Autumn  \n",
              "2             Sunny                  1               31.32      Summer  \n",
              "3            Cloudy                  1               34.74      Autumn  \n",
              "4             Sunny                  0               68.95      Summer  "
            ],
            "text/html": [
              "\n",
              "  <div id=\"df-fd891a9f-bb29-4dfa-8741-34afbd19b801\" class=\"colab-df-container\">\n",
              "    <div>\n",
              "<style scoped>\n",
              "    .dataframe tbody tr th:only-of-type {\n",
              "        vertical-align: middle;\n",
              "    }\n",
              "\n",
              "    .dataframe tbody tr th {\n",
              "        vertical-align: top;\n",
              "    }\n",
              "\n",
              "    .dataframe thead th {\n",
              "        text-align: right;\n",
              "    }\n",
              "</style>\n",
              "<table border=\"1\" class=\"dataframe\">\n",
              "  <thead>\n",
              "    <tr style=\"text-align: right;\">\n",
              "      <th></th>\n",
              "      <th>Date</th>\n",
              "      <th>Store ID</th>\n",
              "      <th>Product ID</th>\n",
              "      <th>Category</th>\n",
              "      <th>Region</th>\n",
              "      <th>Inventory Level</th>\n",
              "      <th>Units Sold</th>\n",
              "      <th>Units Ordered</th>\n",
              "      <th>Demand Forecast</th>\n",
              "      <th>Price</th>\n",
              "      <th>Discount</th>\n",
              "      <th>Weather Condition</th>\n",
              "      <th>Holiday/Promotion</th>\n",
              "      <th>Competitor Pricing</th>\n",
              "      <th>Seasonality</th>\n",
              "    </tr>\n",
              "  </thead>\n",
              "  <tbody>\n",
              "    <tr>\n",
              "      <th>0</th>\n",
              "      <td>2022-01-01</td>\n",
              "      <td>S001</td>\n",
              "      <td>P0001</td>\n",
              "      <td>Groceries</td>\n",
              "      <td>North</td>\n",
              "      <td>231</td>\n",
              "      <td>127</td>\n",
              "      <td>55</td>\n",
              "      <td>135.47</td>\n",
              "      <td>33.50</td>\n",
              "      <td>20</td>\n",
              "      <td>Rainy</td>\n",
              "      <td>0</td>\n",
              "      <td>29.69</td>\n",
              "      <td>Autumn</td>\n",
              "    </tr>\n",
              "    <tr>\n",
              "      <th>1</th>\n",
              "      <td>2022-01-01</td>\n",
              "      <td>S001</td>\n",
              "      <td>P0002</td>\n",
              "      <td>Toys</td>\n",
              "      <td>South</td>\n",
              "      <td>204</td>\n",
              "      <td>150</td>\n",
              "      <td>66</td>\n",
              "      <td>144.04</td>\n",
              "      <td>63.01</td>\n",
              "      <td>20</td>\n",
              "      <td>Sunny</td>\n",
              "      <td>0</td>\n",
              "      <td>66.16</td>\n",
              "      <td>Autumn</td>\n",
              "    </tr>\n",
              "    <tr>\n",
              "      <th>2</th>\n",
              "      <td>2022-01-01</td>\n",
              "      <td>S001</td>\n",
              "      <td>P0003</td>\n",
              "      <td>Toys</td>\n",
              "      <td>West</td>\n",
              "      <td>102</td>\n",
              "      <td>65</td>\n",
              "      <td>51</td>\n",
              "      <td>74.02</td>\n",
              "      <td>27.99</td>\n",
              "      <td>10</td>\n",
              "      <td>Sunny</td>\n",
              "      <td>1</td>\n",
              "      <td>31.32</td>\n",
              "      <td>Summer</td>\n",
              "    </tr>\n",
              "    <tr>\n",
              "      <th>3</th>\n",
              "      <td>2022-01-01</td>\n",
              "      <td>S001</td>\n",
              "      <td>P0004</td>\n",
              "      <td>Toys</td>\n",
              "      <td>North</td>\n",
              "      <td>469</td>\n",
              "      <td>61</td>\n",
              "      <td>164</td>\n",
              "      <td>62.18</td>\n",
              "      <td>32.72</td>\n",
              "      <td>10</td>\n",
              "      <td>Cloudy</td>\n",
              "      <td>1</td>\n",
              "      <td>34.74</td>\n",
              "      <td>Autumn</td>\n",
              "    </tr>\n",
              "    <tr>\n",
              "      <th>4</th>\n",
              "      <td>2022-01-01</td>\n",
              "      <td>S001</td>\n",
              "      <td>P0005</td>\n",
              "      <td>Electronics</td>\n",
              "      <td>East</td>\n",
              "      <td>166</td>\n",
              "      <td>14</td>\n",
              "      <td>135</td>\n",
              "      <td>9.26</td>\n",
              "      <td>73.64</td>\n",
              "      <td>0</td>\n",
              "      <td>Sunny</td>\n",
              "      <td>0</td>\n",
              "      <td>68.95</td>\n",
              "      <td>Summer</td>\n",
              "    </tr>\n",
              "  </tbody>\n",
              "</table>\n",
              "</div>\n",
              "    <div class=\"colab-df-buttons\">\n",
              "\n",
              "  <div class=\"colab-df-container\">\n",
              "    <button class=\"colab-df-convert\" onclick=\"convertToInteractive('df-fd891a9f-bb29-4dfa-8741-34afbd19b801')\"\n",
              "            title=\"Convert this dataframe to an interactive table.\"\n",
              "            style=\"display:none;\">\n",
              "\n",
              "  <svg xmlns=\"http://www.w3.org/2000/svg\" height=\"24px\" viewBox=\"0 -960 960 960\">\n",
              "    <path d=\"M120-120v-720h720v720H120Zm60-500h600v-160H180v160Zm220 220h160v-160H400v160Zm0 220h160v-160H400v160ZM180-400h160v-160H180v160Zm440 0h160v-160H620v160ZM180-180h160v-160H180v160Zm440 0h160v-160H620v160Z\"/>\n",
              "  </svg>\n",
              "    </button>\n",
              "\n",
              "  <style>\n",
              "    .colab-df-container {\n",
              "      display:flex;\n",
              "      gap: 12px;\n",
              "    }\n",
              "\n",
              "    .colab-df-convert {\n",
              "      background-color: #E8F0FE;\n",
              "      border: none;\n",
              "      border-radius: 50%;\n",
              "      cursor: pointer;\n",
              "      display: none;\n",
              "      fill: #1967D2;\n",
              "      height: 32px;\n",
              "      padding: 0 0 0 0;\n",
              "      width: 32px;\n",
              "    }\n",
              "\n",
              "    .colab-df-convert:hover {\n",
              "      background-color: #E2EBFA;\n",
              "      box-shadow: 0px 1px 2px rgba(60, 64, 67, 0.3), 0px 1px 3px 1px rgba(60, 64, 67, 0.15);\n",
              "      fill: #174EA6;\n",
              "    }\n",
              "\n",
              "    .colab-df-buttons div {\n",
              "      margin-bottom: 4px;\n",
              "    }\n",
              "\n",
              "    [theme=dark] .colab-df-convert {\n",
              "      background-color: #3B4455;\n",
              "      fill: #D2E3FC;\n",
              "    }\n",
              "\n",
              "    [theme=dark] .colab-df-convert:hover {\n",
              "      background-color: #434B5C;\n",
              "      box-shadow: 0px 1px 3px 1px rgba(0, 0, 0, 0.15);\n",
              "      filter: drop-shadow(0px 1px 2px rgba(0, 0, 0, 0.3));\n",
              "      fill: #FFFFFF;\n",
              "    }\n",
              "  </style>\n",
              "\n",
              "    <script>\n",
              "      const buttonEl =\n",
              "        document.querySelector('#df-fd891a9f-bb29-4dfa-8741-34afbd19b801 button.colab-df-convert');\n",
              "      buttonEl.style.display =\n",
              "        google.colab.kernel.accessAllowed ? 'block' : 'none';\n",
              "\n",
              "      async function convertToInteractive(key) {\n",
              "        const element = document.querySelector('#df-fd891a9f-bb29-4dfa-8741-34afbd19b801');\n",
              "        const dataTable =\n",
              "          await google.colab.kernel.invokeFunction('convertToInteractive',\n",
              "                                                    [key], {});\n",
              "        if (!dataTable) return;\n",
              "\n",
              "        const docLinkHtml = 'Like what you see? Visit the ' +\n",
              "          '<a target=\"_blank\" href=https://colab.research.google.com/notebooks/data_table.ipynb>data table notebook</a>'\n",
              "          + ' to learn more about interactive tables.';\n",
              "        element.innerHTML = '';\n",
              "        dataTable['output_type'] = 'display_data';\n",
              "        await google.colab.output.renderOutput(dataTable, element);\n",
              "        const docLink = document.createElement('div');\n",
              "        docLink.innerHTML = docLinkHtml;\n",
              "        element.appendChild(docLink);\n",
              "      }\n",
              "    </script>\n",
              "  </div>\n",
              "\n",
              "\n",
              "<div id=\"df-a6d7ce7e-267a-4f67-9b10-b84c94541728\">\n",
              "  <button class=\"colab-df-quickchart\" onclick=\"quickchart('df-a6d7ce7e-267a-4f67-9b10-b84c94541728')\"\n",
              "            title=\"Suggest charts\"\n",
              "            style=\"display:none;\">\n",
              "\n",
              "<svg xmlns=\"http://www.w3.org/2000/svg\" height=\"24px\"viewBox=\"0 0 24 24\"\n",
              "     width=\"24px\">\n",
              "    <g>\n",
              "        <path d=\"M19 3H5c-1.1 0-2 .9-2 2v14c0 1.1.9 2 2 2h14c1.1 0 2-.9 2-2V5c0-1.1-.9-2-2-2zM9 17H7v-7h2v7zm4 0h-2V7h2v10zm4 0h-2v-4h2v4z\"/>\n",
              "    </g>\n",
              "</svg>\n",
              "  </button>\n",
              "\n",
              "<style>\n",
              "  .colab-df-quickchart {\n",
              "      --bg-color: #E8F0FE;\n",
              "      --fill-color: #1967D2;\n",
              "      --hover-bg-color: #E2EBFA;\n",
              "      --hover-fill-color: #174EA6;\n",
              "      --disabled-fill-color: #AAA;\n",
              "      --disabled-bg-color: #DDD;\n",
              "  }\n",
              "\n",
              "  [theme=dark] .colab-df-quickchart {\n",
              "      --bg-color: #3B4455;\n",
              "      --fill-color: #D2E3FC;\n",
              "      --hover-bg-color: #434B5C;\n",
              "      --hover-fill-color: #FFFFFF;\n",
              "      --disabled-bg-color: #3B4455;\n",
              "      --disabled-fill-color: #666;\n",
              "  }\n",
              "\n",
              "  .colab-df-quickchart {\n",
              "    background-color: var(--bg-color);\n",
              "    border: none;\n",
              "    border-radius: 50%;\n",
              "    cursor: pointer;\n",
              "    display: none;\n",
              "    fill: var(--fill-color);\n",
              "    height: 32px;\n",
              "    padding: 0;\n",
              "    width: 32px;\n",
              "  }\n",
              "\n",
              "  .colab-df-quickchart:hover {\n",
              "    background-color: var(--hover-bg-color);\n",
              "    box-shadow: 0 1px 2px rgba(60, 64, 67, 0.3), 0 1px 3px 1px rgba(60, 64, 67, 0.15);\n",
              "    fill: var(--button-hover-fill-color);\n",
              "  }\n",
              "\n",
              "  .colab-df-quickchart-complete:disabled,\n",
              "  .colab-df-quickchart-complete:disabled:hover {\n",
              "    background-color: var(--disabled-bg-color);\n",
              "    fill: var(--disabled-fill-color);\n",
              "    box-shadow: none;\n",
              "  }\n",
              "\n",
              "  .colab-df-spinner {\n",
              "    border: 2px solid var(--fill-color);\n",
              "    border-color: transparent;\n",
              "    border-bottom-color: var(--fill-color);\n",
              "    animation:\n",
              "      spin 1s steps(1) infinite;\n",
              "  }\n",
              "\n",
              "  @keyframes spin {\n",
              "    0% {\n",
              "      border-color: transparent;\n",
              "      border-bottom-color: var(--fill-color);\n",
              "      border-left-color: var(--fill-color);\n",
              "    }\n",
              "    20% {\n",
              "      border-color: transparent;\n",
              "      border-left-color: var(--fill-color);\n",
              "      border-top-color: var(--fill-color);\n",
              "    }\n",
              "    30% {\n",
              "      border-color: transparent;\n",
              "      border-left-color: var(--fill-color);\n",
              "      border-top-color: var(--fill-color);\n",
              "      border-right-color: var(--fill-color);\n",
              "    }\n",
              "    40% {\n",
              "      border-color: transparent;\n",
              "      border-right-color: var(--fill-color);\n",
              "      border-top-color: var(--fill-color);\n",
              "    }\n",
              "    60% {\n",
              "      border-color: transparent;\n",
              "      border-right-color: var(--fill-color);\n",
              "    }\n",
              "    80% {\n",
              "      border-color: transparent;\n",
              "      border-right-color: var(--fill-color);\n",
              "      border-bottom-color: var(--fill-color);\n",
              "    }\n",
              "    90% {\n",
              "      border-color: transparent;\n",
              "      border-bottom-color: var(--fill-color);\n",
              "    }\n",
              "  }\n",
              "</style>\n",
              "\n",
              "  <script>\n",
              "    async function quickchart(key) {\n",
              "      const quickchartButtonEl =\n",
              "        document.querySelector('#' + key + ' button');\n",
              "      quickchartButtonEl.disabled = true;  // To prevent multiple clicks.\n",
              "      quickchartButtonEl.classList.add('colab-df-spinner');\n",
              "      try {\n",
              "        const charts = await google.colab.kernel.invokeFunction(\n",
              "            'suggestCharts', [key], {});\n",
              "      } catch (error) {\n",
              "        console.error('Error during call to suggestCharts:', error);\n",
              "      }\n",
              "      quickchartButtonEl.classList.remove('colab-df-spinner');\n",
              "      quickchartButtonEl.classList.add('colab-df-quickchart-complete');\n",
              "    }\n",
              "    (() => {\n",
              "      let quickchartButtonEl =\n",
              "        document.querySelector('#df-a6d7ce7e-267a-4f67-9b10-b84c94541728 button');\n",
              "      quickchartButtonEl.style.display =\n",
              "        google.colab.kernel.accessAllowed ? 'block' : 'none';\n",
              "    })();\n",
              "  </script>\n",
              "</div>\n",
              "\n",
              "    </div>\n",
              "  </div>\n"
            ],
            "application/vnd.google.colaboratory.intrinsic+json": {
              "type": "dataframe",
              "variable_name": "df_capped",
              "summary": "{\n  \"name\": \"df_capped\",\n  \"rows\": 73100,\n  \"fields\": [\n    {\n      \"column\": \"Date\",\n      \"properties\": {\n        \"dtype\": \"object\",\n        \"num_unique_values\": 731,\n        \"samples\": [\n          \"2023-12-05\",\n          \"2022-02-03\",\n          \"2022-10-28\"\n        ],\n        \"semantic_type\": \"\",\n        \"description\": \"\"\n      }\n    },\n    {\n      \"column\": \"Store ID\",\n      \"properties\": {\n        \"dtype\": \"category\",\n        \"num_unique_values\": 5,\n        \"samples\": [\n          \"S002\",\n          \"S005\",\n          \"S003\"\n        ],\n        \"semantic_type\": \"\",\n        \"description\": \"\"\n      }\n    },\n    {\n      \"column\": \"Product ID\",\n      \"properties\": {\n        \"dtype\": \"category\",\n        \"num_unique_values\": 20,\n        \"samples\": [\n          \"P0001\",\n          \"P0018\",\n          \"P0016\"\n        ],\n        \"semantic_type\": \"\",\n        \"description\": \"\"\n      }\n    },\n    {\n      \"column\": \"Category\",\n      \"properties\": {\n        \"dtype\": \"category\",\n        \"num_unique_values\": 5,\n        \"samples\": [\n          \"Toys\",\n          \"Clothing\",\n          \"Electronics\"\n        ],\n        \"semantic_type\": \"\",\n        \"description\": \"\"\n      }\n    },\n    {\n      \"column\": \"Region\",\n      \"properties\": {\n        \"dtype\": \"category\",\n        \"num_unique_values\": 4,\n        \"samples\": [\n          \"South\",\n          \"East\",\n          \"North\"\n        ],\n        \"semantic_type\": \"\",\n        \"description\": \"\"\n      }\n    },\n    {\n      \"column\": \"Inventory Level\",\n      \"properties\": {\n        \"dtype\": \"number\",\n        \"std\": 129,\n        \"min\": 50,\n        \"max\": 500,\n        \"num_unique_values\": 451,\n        \"samples\": [\n          98,\n          375,\n          212\n        ],\n        \"semantic_type\": \"\",\n        \"description\": \"\"\n      }\n    },\n    {\n      \"column\": \"Units Sold\",\n      \"properties\": {\n        \"dtype\": \"number\",\n        \"std\": 108,\n        \"min\": 0,\n        \"max\": 434,\n        \"num_unique_values\": 435,\n        \"samples\": [\n          119,\n          171,\n          136\n        ],\n        \"semantic_type\": \"\",\n        \"description\": \"\"\n      }\n    },\n    {\n      \"column\": \"Units Ordered\",\n      \"properties\": {\n        \"dtype\": \"number\",\n        \"std\": 52,\n        \"min\": 20,\n        \"max\": 200,\n        \"num_unique_values\": 181,\n        \"samples\": [\n          144,\n          124,\n          87\n        ],\n        \"semantic_type\": \"\",\n        \"description\": \"\"\n      }\n    },\n    {\n      \"column\": \"Demand Forecast\",\n      \"properties\": {\n        \"dtype\": \"number\",\n        \"std\": 108.60218779982787,\n        \"min\": -9.99,\n        \"max\": 439.62625,\n        \"num_unique_values\": 30920,\n        \"samples\": [\n          85.04,\n          209.47,\n          272.27\n        ],\n        \"semantic_type\": \"\",\n        \"description\": \"\"\n      }\n    },\n    {\n      \"column\": \"Price\",\n      \"properties\": {\n        \"dtype\": \"number\",\n        \"std\": 26.021944625625636,\n        \"min\": 10.0,\n        \"max\": 100.0,\n        \"num_unique_values\": 8999,\n        \"samples\": [\n          61.69,\n          54.33,\n          33.89\n        ],\n        \"semantic_type\": \"\",\n        \"description\": \"\"\n      }\n    },\n    {\n      \"column\": \"Discount\",\n      \"properties\": {\n        \"dtype\": \"number\",\n        \"std\": 7,\n        \"min\": 0,\n        \"max\": 20,\n        \"num_unique_values\": 5,\n        \"samples\": [\n          10,\n          15,\n          0\n        ],\n        \"semantic_type\": \"\",\n        \"description\": \"\"\n      }\n    },\n    {\n      \"column\": \"Weather Condition\",\n      \"properties\": {\n        \"dtype\": \"category\",\n        \"num_unique_values\": 4,\n        \"samples\": [\n          \"Sunny\",\n          \"Snowy\",\n          \"Rainy\"\n        ],\n        \"semantic_type\": \"\",\n        \"description\": \"\"\n      }\n    },\n    {\n      \"column\": \"Holiday/Promotion\",\n      \"properties\": {\n        \"dtype\": \"number\",\n        \"std\": 0,\n        \"min\": 0,\n        \"max\": 1,\n        \"num_unique_values\": 2,\n        \"samples\": [\n          1,\n          0\n        ],\n        \"semantic_type\": \"\",\n        \"description\": \"\"\n      }\n    },\n    {\n      \"column\": \"Competitor Pricing\",\n      \"properties\": {\n        \"dtype\": \"number\",\n        \"std\": 26.19140786909631,\n        \"min\": 5.03,\n        \"max\": 104.94,\n        \"num_unique_values\": 9751,\n        \"samples\": [\n          96.16,\n          22.17\n        ],\n        \"semantic_type\": \"\",\n        \"description\": \"\"\n      }\n    },\n    {\n      \"column\": \"Seasonality\",\n      \"properties\": {\n        \"dtype\": \"category\",\n        \"num_unique_values\": 4,\n        \"samples\": [\n          \"Summer\",\n          \"Spring\"\n        ],\n        \"semantic_type\": \"\",\n        \"description\": \"\"\n      }\n    }\n  ]\n}"
            }
          },
          "metadata": {},
          "execution_count": 10
        }
      ]
    },
    {
      "cell_type": "markdown",
      "source": [
        "# Hypothesis Testing\n",
        "\n",
        "## Hypothesis-1\n",
        "#### Null Hypothesis (H₀): There is no significant correlation between Inventory Level and Units Sold.\n",
        "#### Alternative Hypothesis (H₁): There is a significant correlation between Inventory Level and Units Sold.\n",
        "Method : Pearson Correlation\n",
        "\n",
        "## Hypothesis-2\n",
        "#### H₀: Higher discounts do not significantly increase Units Sold.\n",
        "#### H₁: Higher discounts significantly increase Units Sold.\n",
        "Method : T-Test\n",
        "\n",
        "## Hypothesis-3\n",
        "#### H₀: There is no significant increase in Sales during Holiday/Promotion periods.\n",
        "#### H₁: Sales significantly increase during Holiday/Promotion periods.\n",
        "Method : T-Test\n",
        "\n",
        "## Hypothesis-4\n",
        "#### H₀: Demand Forecast does not significantly differ across different regions.\n",
        "#### H₁: Demand Forecast significantly differs across different regions.\n",
        "Method : ANOVA test\n",
        "\n",
        "## Hypothesis-5\n",
        "#### H₀: The effect of Competitor Pricing on Units Sold does not vary across Regions.\n",
        "#### H₁: The effect of Competitor Pricing on Units Sold varies across Regions.\n",
        "Method : Two-way ANOVA\n",
        "\n",
        "## Hypothesis-6\n",
        "#### H₀: Competitor Pricing has no significant impact on the product Price.\n",
        "#### H₁: Competitor Pricing has a significant impact on the product Price.\n",
        "Method : Linear Regression\n",
        "\n",
        "## Hypothesis-7\n",
        "#### H₀: Units Ordered do not vary significantly across different seasons.\n",
        "#### H₁: Units Ordered vary significantly across different seasons.\n",
        "Method : Kruskal-Wallis\n",
        "\n",
        "## Hypothesis-8\n",
        "#### H₀: Weather conditions do not affect the number of Units Sold.\n",
        "#### H₁: Weather conditions significantly affect the number of Units Sold.\n",
        "Method : Chi-Square Test\n",
        "\n",
        "## Hypothesis-9\n",
        "#### H₀: Demand Forecast accuracy does not differ based on Category.\n",
        "#### H₁: Demand Forecast accuracy differs based on Category.\n",
        "Method : RMSE Comparison (Root Mean Squared Error.)\n",
        "\n",
        "## Hypothesis-10\n",
        "#### H₀: Dynamic pricing strategies based on Demand Forecast do not improve revenue.\n",
        "#### H₁: Dynamic pricing strategies based on Demand Forecast improve revenue.\n",
        "Method : A/B Testing\n",
        "\n",
        "## Hypothesis-11\n",
        "#### H₀: Sales remain constant across different seasons.\n",
        "#### H₁: Sales vary significantly across seasons.\n",
        "Method : Time Series Decomposition\n",
        "\n",
        "## Hypothesis-12\n",
        "#### H₀: The price of a product does not affect its sales volume.\n",
        "#### H₁: High-priced products tend to have lower sales volume.\n",
        "Method : Spearman Rank Correlation\n",
        "\n",
        "## Hypothesis-13\n",
        "#### H₀: There is no difference in sales between weekdays and weekends.\n",
        "#### H₁: Sales increase on weekends.\n",
        "Method : Wilcoxon Signed-Rank Test\n",
        "\n",
        "## Hypothesis-14\n",
        "#### H₀: The distribution of Prices is the same during and outside of Holiday/Promotion periods.\n",
        "#### H₁: Price distributions differ significantly between Holiday/Promotion and normal days.\n",
        "Method : Mann-Whitney U Test\n",
        "\n",
        "## Hypothesis-15\n",
        "#### H₀: The accuracy of Demand Forecast does not improve over time.\n",
        "#### H₁: The accuracy of Demand Forecast improves over time.\n",
        "Method : Mean Absolute Error (MAE)\n",
        "\n",
        "## Hypothesis-16\n",
        "#### H₀: Customers in different Regions do not show different Price Sensitivity.\n",
        "#### H₁: Customers in different Regions have significantly different Price Sensitivity.\n",
        "Method : Hierarchical Clustering\n",
        "\n",
        "## Hypothesis-17\n",
        "#### H₀: Price Elasticity is not significant for product demand.\n",
        "#### H₁: Price Elasticity significantly affects demand.\n",
        "Method : Log-Log Regression Model\n",
        "\n",
        "## Hypothesis-18\n",
        "#### H₀: Sales variance is equal across different Stores.\n",
        "#### H₁: Sales variance differs significantly across Stores.\n",
        "Method : Levene’s Test"
      ],
      "metadata": {
        "id": "JwU4yqzoKwrO"
      }
    },
    {
      "cell_type": "markdown",
      "source": [],
      "metadata": {
        "id": "zZ_8VtCmF4iT"
      }
    },
    {
      "cell_type": "markdown",
      "source": [
        "## Hypothesis-1 (Pearson Correlation)\n",
        "H₀ : There is no significant correlation between Inventory Level and Units Sold.\n",
        "\n",
        "H₁ : There is a significant correlation between Inventory Level and Units Sold.\n"
      ],
      "metadata": {
        "id": "MrOLo_BQKsMe"
      }
    },
    {
      "cell_type": "code",
      "execution_count": 11,
      "metadata": {
        "colab": {
          "base_uri": "https://localhost:8080/"
        },
        "id": "t5Z-5AWVF5qS",
        "outputId": "bed7f6e9-91a8-4ca8-d2be-8bc3743c3f0a"
      },
      "outputs": [
        {
          "output_type": "stream",
          "name": "stdout",
          "text": [
            "Requirement already satisfied: scipy in /usr/local/lib/python3.11/dist-packages (1.13.1)\n",
            "Requirement already satisfied: numpy<2.3,>=1.22.4 in /usr/local/lib/python3.11/dist-packages (from scipy) (1.26.4)\n",
            "Pearson Correlation Coefficient: 0.5901899467262202\n",
            "P-value: 0.0\n",
            "Reject H₀: Significant correlation exists.\n"
          ]
        }
      ],
      "source": [
        "!pip install scipy\n",
        "import scipy.stats as stats\n",
        "\n",
        "# Select the two columns\n",
        "inventory = df_capped[\"Inventory Level\"]\n",
        "units_sold = df_capped[\"Units Sold\"]\n",
        "\n",
        "# Perform Pearson correlation test\n",
        "correlation, p_value = stats.pearsonr(inventory, units_sold)\n",
        "\n",
        "# Print results\n",
        "print(f\"Pearson Correlation Coefficient: {correlation}\")\n",
        "print(f\"P-value: {p_value}\")\n",
        "\n",
        "# Interpretation\n",
        "if p_value < 0.05:\n",
        "    print(\"Reject H₀: Significant correlation exists.\")\n",
        "else:\n",
        "    print(\"Fail to reject H₀: No significant correlation.\")"
      ]
    },
    {
      "cell_type": "markdown",
      "source": [
        "## Hypothesis-2 ( T-Test )\n",
        "H₀ : Higher discounts do not significantly increase Units Sold.\n",
        "\n",
        "H₁ : Higher discounts significantly increase Units Sold."
      ],
      "metadata": {
        "id": "uK4oMwIOLmtW"
      }
    },
    {
      "cell_type": "code",
      "source": [
        "from scipy.stats import ttest_ind\n",
        "# Splitting data based on Discount levels\n",
        "median_discount = df_capped[\"Discount\"].median()\n",
        "low_discount_group = df_capped[df_capped[\"Discount\"] <= median_discount][\"Units Sold\"]\n",
        "high_discount_group = df_capped[df_capped[\"Discount\"] > median_discount][\"Units Sold\"]\n",
        "\n",
        "# Perform T-Test\n",
        "t_stat, p_value = ttest_ind(low_discount_group, high_discount_group, equal_var=False)\n",
        "\n",
        "# Print results\n",
        "print(f\"T-Statistic: {t_stat}\")\n",
        "print(f\"P-value: {p_value}\")\n",
        "\n",
        "# Interpretation\n",
        "alpha = 0.05  # Significance level\n",
        "if p_value < alpha:\n",
        "    print(\"Reject H₀: Higher discounts significantly increase Units Sold.\")\n",
        "else:\n",
        "    print(\"Fail to reject H₀: No significant effect of discount on Units Sold.\")"
      ],
      "metadata": {
        "colab": {
          "base_uri": "https://localhost:8080/"
        },
        "id": "eoJ40J0kL8qM",
        "outputId": "9a481921-bcef-4106-b9b0-d50ba6db81eb"
      },
      "execution_count": 12,
      "outputs": [
        {
          "output_type": "stream",
          "name": "stdout",
          "text": [
            "T-Statistic: -0.3347645284016671\n",
            "P-value: 0.7378038362568219\n",
            "Fail to reject H₀: No significant effect of discount on Units Sold.\n"
          ]
        }
      ]
    },
    {
      "cell_type": "markdown",
      "source": [
        "## Hypothesis-3 ( T-test)\n",
        "H₀: There is no significant increase in Sales during Holiday/Promotion periods.\n",
        "\n",
        "H₁: Sales significantly increase during Holiday/Promotion periods.\n"
      ],
      "metadata": {
        "id": "CRMYBFc_MhCx"
      }
    },
    {
      "cell_type": "code",
      "source": [
        "# Splitting data into two groups: Holiday/Promotion vs. Non-Holiday\n",
        "holiday_sales = df_capped[df_capped[\"Holiday/Promotion\"] == 1][\"Units Sold\"]\n",
        "non_holiday_sales = df_capped[df_capped[\"Holiday/Promotion\"] == 0][\"Units Sold\"]\n",
        "\n",
        "# Perform Independent T-Test\n",
        "t_stat, p_value = ttest_ind(holiday_sales, non_holiday_sales, equal_var=False)\n",
        "\n",
        "# Print results\n",
        "print(f\"T-Statistic: {t_stat}\")\n",
        "print(f\"P-value: {p_value}\")\n",
        "\n",
        "# Interpretation\n",
        "alpha = 0.05  # Significance level\n",
        "if p_value < alpha:\n",
        "    print(\"Reject H₀: Sales significantly increase during Holiday/Promotion periods.\")\n",
        "else:\n",
        "    print(\"Fail to reject H₀: No significant increase in sales during Holiday/Promotion periods.\")"
      ],
      "metadata": {
        "colab": {
          "base_uri": "https://localhost:8080/"
        },
        "id": "vdwOupQgMmcc",
        "outputId": "e15eb120-f73f-4450-d821-e6e1e8ca3a65"
      },
      "execution_count": 13,
      "outputs": [
        {
          "output_type": "stream",
          "name": "stdout",
          "text": [
            "T-Statistic: -0.06393788316138897\n",
            "P-value: 0.949019862409233\n",
            "Fail to reject H₀: No significant increase in sales during Holiday/Promotion periods.\n"
          ]
        }
      ]
    },
    {
      "cell_type": "markdown",
      "source": [
        "## Hypothesis-4 (ANOVA test)\n",
        "H₀: Demand Forecast does not significantly differ across different regions.\n",
        "\n",
        "H₁: Demand Forecast significantly differs across different regions.\n"
      ],
      "metadata": {
        "id": "Fs-W9Q1iNDuZ"
      }
    },
    {
      "cell_type": "code",
      "source": [
        "from scipy.stats import f_oneway\n",
        "\n",
        "# Group Demand Forecast by Region\n",
        "regions = df_capped[\"Region\"].unique()  # Get all unique regions\n",
        "demand_forecast_groups = [df_capped[df_capped[\"Region\"] == region][\"Demand Forecast\"] for region in regions]\n",
        "\n",
        "# Perform ANOVA Test\n",
        "f_stat, p_value = f_oneway(*demand_forecast_groups)\n",
        "\n",
        "# Print results\n",
        "print(f\"F-Statistic: {f_stat}\")\n",
        "print(f\"P-value: {p_value}\")\n",
        "\n",
        "# Interpretation\n",
        "alpha = 0.05  # Significance level\n",
        "if p_value < alpha:\n",
        "    print(\"Reject H₀: Demand Forecast significantly differs across different regions.\")\n",
        "else:\n",
        "    print(\"Fail to reject H₀: No significant difference in Demand Forecast across regions.\")"
      ],
      "metadata": {
        "colab": {
          "base_uri": "https://localhost:8080/"
        },
        "id": "CRdD6pooNpMj",
        "outputId": "a8b6f430-1b76-485e-d65b-3a20a552a0e3"
      },
      "execution_count": 14,
      "outputs": [
        {
          "output_type": "stream",
          "name": "stdout",
          "text": [
            "F-Statistic: 0.6014816277995594\n",
            "P-value: 0.6139703158996084\n",
            "Fail to reject H₀: No significant difference in Demand Forecast across regions.\n"
          ]
        }
      ]
    },
    {
      "cell_type": "markdown",
      "source": [
        "## Hypothesis-5 (Two Way ANOVA)\n",
        "H₀: The effect of Competitor Pricing on Units Sold does not vary across Regions.\n",
        "\n",
        "H₁: The effect of Competitor Pricing on Units Sold varies across Regions.\n"
      ],
      "metadata": {
        "id": "qclgREfPNw2h"
      }
    },
    {
      "cell_type": "code",
      "source": [
        "import pandas as pd\n",
        "import statsmodels.api as sm\n",
        "import statsmodels.formula.api as smf\n",
        "\n",
        "# Perform Two-Way ANOVA\n",
        "model = smf.ols(\"`Units Sold` ~ C(Region) + C(`Competitor Pricing`) + C(Region):C(`Competitor Pricing`)\", data=df_capped).fit()\n",
        "anova_table = sm.stats.anova_lm(model, typ=2)\n",
        "\n",
        "# Print ANOVA table\n",
        "print(anova_table)\n",
        "\n",
        "# Get the p-value for the interaction effect (Region × Competitor Pricing)\n",
        "interaction_p_value = anova_table.loc[\"C(Region):C(`Competitor Pricing`)\", \"PR(>F)\"]\n",
        "\n",
        "# Interpretation\n",
        "alpha = 0.05  # Significance level\n",
        "if interaction_p_value < alpha:\n",
        "    print(\"Reject H₀: Competitor Pricing affects Units Sold differently across Regions.\")\n",
        "else:\n",
        "    print(\"Fail to reject H₀: No significant difference in how Competitor Pricing affects Units Sold across Regions.\")\n"
      ],
      "metadata": {
        "colab": {
          "base_uri": "https://localhost:8080/",
          "height": 391
        },
        "id": "M2cABvfDPDmH",
        "outputId": "cdad2c66-adef-4a1b-a8d0-231218e2fe84"
      },
      "execution_count": 15,
      "outputs": [
        {
          "output_type": "error",
          "ename": "PatsyError",
          "evalue": "error tokenizing input (maybe an unclosed string?)\n    `Units Sold` ~ C(Region) + C(`Competitor Pricing`) + C(Region):C(`Competitor Pricing`)\n    ^",
          "traceback": [
            "\u001b[0;31m---------------------------------------------------------------------------\u001b[0m",
            "\u001b[0;31mPatsyError\u001b[0m                                Traceback (most recent call last)",
            "\u001b[0;32m<ipython-input-15-e16e427305fc>\u001b[0m in \u001b[0;36m<cell line: 0>\u001b[0;34m()\u001b[0m\n\u001b[1;32m      4\u001b[0m \u001b[0;34m\u001b[0m\u001b[0m\n\u001b[1;32m      5\u001b[0m \u001b[0;31m# Perform Two-Way ANOVA\u001b[0m\u001b[0;34m\u001b[0m\u001b[0;34m\u001b[0m\u001b[0m\n\u001b[0;32m----> 6\u001b[0;31m \u001b[0mmodel\u001b[0m \u001b[0;34m=\u001b[0m \u001b[0msmf\u001b[0m\u001b[0;34m.\u001b[0m\u001b[0mols\u001b[0m\u001b[0;34m(\u001b[0m\u001b[0;34m\"`Units Sold` ~ C(Region) + C(`Competitor Pricing`) + C(Region):C(`Competitor Pricing`)\"\u001b[0m\u001b[0;34m,\u001b[0m \u001b[0mdata\u001b[0m\u001b[0;34m=\u001b[0m\u001b[0mdf_capped\u001b[0m\u001b[0;34m)\u001b[0m\u001b[0;34m.\u001b[0m\u001b[0mfit\u001b[0m\u001b[0;34m(\u001b[0m\u001b[0;34m)\u001b[0m\u001b[0;34m\u001b[0m\u001b[0;34m\u001b[0m\u001b[0m\n\u001b[0m\u001b[1;32m      7\u001b[0m \u001b[0manova_table\u001b[0m \u001b[0;34m=\u001b[0m \u001b[0msm\u001b[0m\u001b[0;34m.\u001b[0m\u001b[0mstats\u001b[0m\u001b[0;34m.\u001b[0m\u001b[0manova_lm\u001b[0m\u001b[0;34m(\u001b[0m\u001b[0mmodel\u001b[0m\u001b[0;34m,\u001b[0m \u001b[0mtyp\u001b[0m\u001b[0;34m=\u001b[0m\u001b[0;36m2\u001b[0m\u001b[0;34m)\u001b[0m\u001b[0;34m\u001b[0m\u001b[0;34m\u001b[0m\u001b[0m\n\u001b[1;32m      8\u001b[0m \u001b[0;34m\u001b[0m\u001b[0m\n",
            "\u001b[0;32m/usr/local/lib/python3.11/dist-packages/statsmodels/base/model.py\u001b[0m in \u001b[0;36mfrom_formula\u001b[0;34m(cls, formula, data, subset, drop_cols, *args, **kwargs)\u001b[0m\n\u001b[1;32m    201\u001b[0m             \u001b[0mmissing\u001b[0m \u001b[0;34m=\u001b[0m \u001b[0;34m'raise'\u001b[0m\u001b[0;34m\u001b[0m\u001b[0;34m\u001b[0m\u001b[0m\n\u001b[1;32m    202\u001b[0m \u001b[0;34m\u001b[0m\u001b[0m\n\u001b[0;32m--> 203\u001b[0;31m         tmp = handle_formula_data(data, None, formula, depth=eval_env,\n\u001b[0m\u001b[1;32m    204\u001b[0m                                   missing=missing)\n\u001b[1;32m    205\u001b[0m         \u001b[0;34m(\u001b[0m\u001b[0;34m(\u001b[0m\u001b[0mendog\u001b[0m\u001b[0;34m,\u001b[0m \u001b[0mexog\u001b[0m\u001b[0;34m)\u001b[0m\u001b[0;34m,\u001b[0m \u001b[0mmissing_idx\u001b[0m\u001b[0;34m,\u001b[0m \u001b[0mdesign_info\u001b[0m\u001b[0;34m)\u001b[0m \u001b[0;34m=\u001b[0m \u001b[0mtmp\u001b[0m\u001b[0;34m\u001b[0m\u001b[0;34m\u001b[0m\u001b[0m\n",
            "\u001b[0;32m/usr/local/lib/python3.11/dist-packages/statsmodels/formula/formulatools.py\u001b[0m in \u001b[0;36mhandle_formula_data\u001b[0;34m(Y, X, formula, depth, missing)\u001b[0m\n\u001b[1;32m     61\u001b[0m     \u001b[0;32melse\u001b[0m\u001b[0;34m:\u001b[0m\u001b[0;34m\u001b[0m\u001b[0;34m\u001b[0m\u001b[0m\n\u001b[1;32m     62\u001b[0m         \u001b[0;32mif\u001b[0m \u001b[0mdata_util\u001b[0m\u001b[0;34m.\u001b[0m\u001b[0m_is_using_pandas\u001b[0m\u001b[0;34m(\u001b[0m\u001b[0mY\u001b[0m\u001b[0;34m,\u001b[0m \u001b[0;32mNone\u001b[0m\u001b[0;34m)\u001b[0m\u001b[0;34m:\u001b[0m\u001b[0;34m\u001b[0m\u001b[0;34m\u001b[0m\u001b[0m\n\u001b[0;32m---> 63\u001b[0;31m             result = dmatrices(formula, Y, depth, return_type='dataframe',\n\u001b[0m\u001b[1;32m     64\u001b[0m                                NA_action=na_action)\n\u001b[1;32m     65\u001b[0m         \u001b[0;32melse\u001b[0m\u001b[0;34m:\u001b[0m\u001b[0;34m\u001b[0m\u001b[0;34m\u001b[0m\u001b[0m\n",
            "\u001b[0;32m/usr/local/lib/python3.11/dist-packages/patsy/highlevel.py\u001b[0m in \u001b[0;36mdmatrices\u001b[0;34m(formula_like, data, eval_env, NA_action, return_type)\u001b[0m\n\u001b[1;32m    317\u001b[0m     \"\"\"\n\u001b[1;32m    318\u001b[0m     \u001b[0meval_env\u001b[0m \u001b[0;34m=\u001b[0m \u001b[0mEvalEnvironment\u001b[0m\u001b[0;34m.\u001b[0m\u001b[0mcapture\u001b[0m\u001b[0;34m(\u001b[0m\u001b[0meval_env\u001b[0m\u001b[0;34m,\u001b[0m \u001b[0mreference\u001b[0m\u001b[0;34m=\u001b[0m\u001b[0;36m1\u001b[0m\u001b[0;34m)\u001b[0m\u001b[0;34m\u001b[0m\u001b[0;34m\u001b[0m\u001b[0m\n\u001b[0;32m--> 319\u001b[0;31m     (lhs, rhs) = _do_highlevel_design(\n\u001b[0m\u001b[1;32m    320\u001b[0m         \u001b[0mformula_like\u001b[0m\u001b[0;34m,\u001b[0m \u001b[0mdata\u001b[0m\u001b[0;34m,\u001b[0m \u001b[0meval_env\u001b[0m\u001b[0;34m,\u001b[0m \u001b[0mNA_action\u001b[0m\u001b[0;34m,\u001b[0m \u001b[0mreturn_type\u001b[0m\u001b[0;34m\u001b[0m\u001b[0;34m\u001b[0m\u001b[0m\n\u001b[1;32m    321\u001b[0m     )\n",
            "\u001b[0;32m/usr/local/lib/python3.11/dist-packages/patsy/highlevel.py\u001b[0m in \u001b[0;36m_do_highlevel_design\u001b[0;34m(formula_like, data, eval_env, NA_action, return_type)\u001b[0m\n\u001b[1;32m    162\u001b[0m         \u001b[0;32mreturn\u001b[0m \u001b[0miter\u001b[0m\u001b[0;34m(\u001b[0m\u001b[0;34m[\u001b[0m\u001b[0mdata\u001b[0m\u001b[0;34m]\u001b[0m\u001b[0;34m)\u001b[0m\u001b[0;34m\u001b[0m\u001b[0;34m\u001b[0m\u001b[0m\n\u001b[1;32m    163\u001b[0m \u001b[0;34m\u001b[0m\u001b[0m\n\u001b[0;32m--> 164\u001b[0;31m     design_infos = _try_incr_builders(\n\u001b[0m\u001b[1;32m    165\u001b[0m         \u001b[0mformula_like\u001b[0m\u001b[0;34m,\u001b[0m \u001b[0mdata_iter_maker\u001b[0m\u001b[0;34m,\u001b[0m \u001b[0meval_env\u001b[0m\u001b[0;34m,\u001b[0m \u001b[0mNA_action\u001b[0m\u001b[0;34m\u001b[0m\u001b[0;34m\u001b[0m\u001b[0m\n\u001b[1;32m    166\u001b[0m     )\n",
            "\u001b[0;32m/usr/local/lib/python3.11/dist-packages/patsy/highlevel.py\u001b[0m in \u001b[0;36m_try_incr_builders\u001b[0;34m(formula_like, data_iter_maker, eval_env, NA_action)\u001b[0m\n\u001b[1;32m     50\u001b[0m         \u001b[0;31m# fallthrough\u001b[0m\u001b[0;34m\u001b[0m\u001b[0;34m\u001b[0m\u001b[0m\n\u001b[1;32m     51\u001b[0m     \u001b[0;32mif\u001b[0m \u001b[0misinstance\u001b[0m\u001b[0;34m(\u001b[0m\u001b[0mformula_like\u001b[0m\u001b[0;34m,\u001b[0m \u001b[0mstr\u001b[0m\u001b[0;34m)\u001b[0m\u001b[0;34m:\u001b[0m\u001b[0;34m\u001b[0m\u001b[0;34m\u001b[0m\u001b[0m\n\u001b[0;32m---> 52\u001b[0;31m         \u001b[0mformula_like\u001b[0m \u001b[0;34m=\u001b[0m \u001b[0mModelDesc\u001b[0m\u001b[0;34m.\u001b[0m\u001b[0mfrom_formula\u001b[0m\u001b[0;34m(\u001b[0m\u001b[0mformula_like\u001b[0m\u001b[0;34m)\u001b[0m\u001b[0;34m\u001b[0m\u001b[0;34m\u001b[0m\u001b[0m\n\u001b[0m\u001b[1;32m     53\u001b[0m         \u001b[0;31m# fallthrough\u001b[0m\u001b[0;34m\u001b[0m\u001b[0;34m\u001b[0m\u001b[0m\n\u001b[1;32m     54\u001b[0m     \u001b[0;32mif\u001b[0m \u001b[0misinstance\u001b[0m\u001b[0;34m(\u001b[0m\u001b[0mformula_like\u001b[0m\u001b[0;34m,\u001b[0m \u001b[0mModelDesc\u001b[0m\u001b[0;34m)\u001b[0m\u001b[0;34m:\u001b[0m\u001b[0;34m\u001b[0m\u001b[0;34m\u001b[0m\u001b[0m\n",
            "\u001b[0;32m/usr/local/lib/python3.11/dist-packages/patsy/desc.py\u001b[0m in \u001b[0;36mfrom_formula\u001b[0;34m(cls, tree_or_string)\u001b[0m\n\u001b[1;32m    174\u001b[0m             \u001b[0mtree\u001b[0m \u001b[0;34m=\u001b[0m \u001b[0mtree_or_string\u001b[0m\u001b[0;34m\u001b[0m\u001b[0;34m\u001b[0m\u001b[0m\n\u001b[1;32m    175\u001b[0m         \u001b[0;32melse\u001b[0m\u001b[0;34m:\u001b[0m\u001b[0;34m\u001b[0m\u001b[0;34m\u001b[0m\u001b[0m\n\u001b[0;32m--> 176\u001b[0;31m             \u001b[0mtree\u001b[0m \u001b[0;34m=\u001b[0m \u001b[0mparse_formula\u001b[0m\u001b[0;34m(\u001b[0m\u001b[0mtree_or_string\u001b[0m\u001b[0;34m)\u001b[0m\u001b[0;34m\u001b[0m\u001b[0;34m\u001b[0m\u001b[0m\n\u001b[0m\u001b[1;32m    177\u001b[0m         \u001b[0mvalue\u001b[0m \u001b[0;34m=\u001b[0m \u001b[0mEvaluator\u001b[0m\u001b[0;34m(\u001b[0m\u001b[0;34m)\u001b[0m\u001b[0;34m.\u001b[0m\u001b[0meval\u001b[0m\u001b[0;34m(\u001b[0m\u001b[0mtree\u001b[0m\u001b[0;34m,\u001b[0m \u001b[0mrequire_evalexpr\u001b[0m\u001b[0;34m=\u001b[0m\u001b[0;32mFalse\u001b[0m\u001b[0;34m)\u001b[0m\u001b[0;34m\u001b[0m\u001b[0;34m\u001b[0m\u001b[0m\n\u001b[1;32m    178\u001b[0m         \u001b[0;32massert\u001b[0m \u001b[0misinstance\u001b[0m\u001b[0;34m(\u001b[0m\u001b[0mvalue\u001b[0m\u001b[0;34m,\u001b[0m \u001b[0mcls\u001b[0m\u001b[0;34m)\u001b[0m\u001b[0;34m\u001b[0m\u001b[0;34m\u001b[0m\u001b[0m\n",
            "\u001b[0;32m/usr/local/lib/python3.11/dist-packages/patsy/parse_formula.py\u001b[0m in \u001b[0;36mparse_formula\u001b[0;34m(code, extra_operators)\u001b[0m\n\u001b[1;32m    148\u001b[0m     \u001b[0moperators\u001b[0m \u001b[0;34m=\u001b[0m \u001b[0m_default_ops\u001b[0m \u001b[0;34m+\u001b[0m \u001b[0mextra_operators\u001b[0m\u001b[0;34m\u001b[0m\u001b[0;34m\u001b[0m\u001b[0m\n\u001b[1;32m    149\u001b[0m     \u001b[0moperator_strings\u001b[0m \u001b[0;34m=\u001b[0m \u001b[0;34m[\u001b[0m\u001b[0mop\u001b[0m\u001b[0;34m.\u001b[0m\u001b[0mtoken_type\u001b[0m \u001b[0;32mfor\u001b[0m \u001b[0mop\u001b[0m \u001b[0;32min\u001b[0m \u001b[0moperators\u001b[0m\u001b[0;34m]\u001b[0m\u001b[0;34m\u001b[0m\u001b[0;34m\u001b[0m\u001b[0m\n\u001b[0;32m--> 150\u001b[0;31m     tree = infix_parse(\n\u001b[0m\u001b[1;32m    151\u001b[0m         \u001b[0m_tokenize_formula\u001b[0m\u001b[0;34m(\u001b[0m\u001b[0mcode\u001b[0m\u001b[0;34m,\u001b[0m \u001b[0moperator_strings\u001b[0m\u001b[0;34m)\u001b[0m\u001b[0;34m,\u001b[0m \u001b[0moperators\u001b[0m\u001b[0;34m,\u001b[0m \u001b[0m_atomic_token_types\u001b[0m\u001b[0;34m\u001b[0m\u001b[0;34m\u001b[0m\u001b[0m\n\u001b[1;32m    152\u001b[0m     )\n",
            "\u001b[0;32m/usr/local/lib/python3.11/dist-packages/patsy/infix_parser.py\u001b[0m in \u001b[0;36minfix_parse\u001b[0;34m(tokens, operators, atomic_types, trace)\u001b[0m\n\u001b[1;32m    228\u001b[0m \u001b[0;34m\u001b[0m\u001b[0m\n\u001b[1;32m    229\u001b[0m     \u001b[0mwant_noun\u001b[0m \u001b[0;34m=\u001b[0m \u001b[0;32mTrue\u001b[0m\u001b[0;34m\u001b[0m\u001b[0;34m\u001b[0m\u001b[0m\n\u001b[0;32m--> 230\u001b[0;31m     \u001b[0;32mfor\u001b[0m \u001b[0mtoken\u001b[0m \u001b[0;32min\u001b[0m \u001b[0mtoken_source\u001b[0m\u001b[0;34m:\u001b[0m\u001b[0;34m\u001b[0m\u001b[0;34m\u001b[0m\u001b[0m\n\u001b[0m\u001b[1;32m    231\u001b[0m         \u001b[0;32mif\u001b[0m \u001b[0mc\u001b[0m\u001b[0;34m.\u001b[0m\u001b[0mtrace\u001b[0m\u001b[0;34m:\u001b[0m\u001b[0;34m\u001b[0m\u001b[0;34m\u001b[0m\u001b[0m\n\u001b[1;32m    232\u001b[0m             \u001b[0mprint\u001b[0m\u001b[0;34m(\u001b[0m\u001b[0;34m\"Reading next token (want_noun=%r)\"\u001b[0m \u001b[0;34m%\u001b[0m \u001b[0;34m(\u001b[0m\u001b[0mwant_noun\u001b[0m\u001b[0;34m,\u001b[0m\u001b[0;34m)\u001b[0m\u001b[0;34m)\u001b[0m\u001b[0;34m\u001b[0m\u001b[0;34m\u001b[0m\u001b[0m\n",
            "\u001b[0;32m/usr/local/lib/python3.11/dist-packages/patsy/parse_formula.py\u001b[0m in \u001b[0;36m_tokenize_formula\u001b[0;34m(code, operator_strings)\u001b[0m\n\u001b[1;32m     89\u001b[0m \u001b[0;34m\u001b[0m\u001b[0m\n\u001b[1;32m     90\u001b[0m     \u001b[0mit\u001b[0m \u001b[0;34m=\u001b[0m \u001b[0mPushbackAdapter\u001b[0m\u001b[0;34m(\u001b[0m\u001b[0mpython_tokenize\u001b[0m\u001b[0;34m(\u001b[0m\u001b[0mcode\u001b[0m\u001b[0;34m)\u001b[0m\u001b[0;34m)\u001b[0m\u001b[0;34m\u001b[0m\u001b[0;34m\u001b[0m\u001b[0m\n\u001b[0;32m---> 91\u001b[0;31m     \u001b[0;32mfor\u001b[0m \u001b[0mpytype\u001b[0m\u001b[0;34m,\u001b[0m \u001b[0mtoken_string\u001b[0m\u001b[0;34m,\u001b[0m \u001b[0morigin\u001b[0m \u001b[0;32min\u001b[0m \u001b[0mit\u001b[0m\u001b[0;34m:\u001b[0m\u001b[0;34m\u001b[0m\u001b[0;34m\u001b[0m\u001b[0m\n\u001b[0m\u001b[1;32m     92\u001b[0m         \u001b[0;32mif\u001b[0m \u001b[0mtoken_string\u001b[0m \u001b[0;32min\u001b[0m \u001b[0mmagic_token_types\u001b[0m\u001b[0;34m:\u001b[0m\u001b[0;34m\u001b[0m\u001b[0;34m\u001b[0m\u001b[0m\n\u001b[1;32m     93\u001b[0m             \u001b[0;32myield\u001b[0m \u001b[0mToken\u001b[0m\u001b[0;34m(\u001b[0m\u001b[0mmagic_token_types\u001b[0m\u001b[0;34m[\u001b[0m\u001b[0mtoken_string\u001b[0m\u001b[0;34m]\u001b[0m\u001b[0;34m,\u001b[0m \u001b[0morigin\u001b[0m\u001b[0;34m)\u001b[0m\u001b[0;34m\u001b[0m\u001b[0;34m\u001b[0m\u001b[0m\n",
            "\u001b[0;32m/usr/local/lib/python3.11/dist-packages/patsy/util.py\u001b[0m in \u001b[0;36mnext\u001b[0;34m(self)\u001b[0m\n\u001b[1;32m    398\u001b[0m         \u001b[0;32melse\u001b[0m\u001b[0;34m:\u001b[0m\u001b[0;34m\u001b[0m\u001b[0;34m\u001b[0m\u001b[0m\n\u001b[1;32m    399\u001b[0m             \u001b[0;31m# May raise StopIteration\u001b[0m\u001b[0;34m\u001b[0m\u001b[0;34m\u001b[0m\u001b[0m\n\u001b[0;32m--> 400\u001b[0;31m             \u001b[0;32mreturn\u001b[0m \u001b[0mnext\u001b[0m\u001b[0;34m(\u001b[0m\u001b[0mself\u001b[0m\u001b[0;34m.\u001b[0m\u001b[0m_it\u001b[0m\u001b[0;34m)\u001b[0m\u001b[0;34m\u001b[0m\u001b[0;34m\u001b[0m\u001b[0m\n\u001b[0m\u001b[1;32m    401\u001b[0m \u001b[0;34m\u001b[0m\u001b[0m\n\u001b[1;32m    402\u001b[0m     \u001b[0m__next__\u001b[0m \u001b[0;34m=\u001b[0m \u001b[0mnext\u001b[0m\u001b[0;34m\u001b[0m\u001b[0;34m\u001b[0m\u001b[0m\n",
            "\u001b[0;32m/usr/local/lib/python3.11/dist-packages/patsy/tokens.py\u001b[0m in \u001b[0;36mpython_tokenize\u001b[0;34m(code)\u001b[0m\n\u001b[1;32m     38\u001b[0m             \u001b[0morigin\u001b[0m \u001b[0;34m=\u001b[0m \u001b[0mOrigin\u001b[0m\u001b[0;34m(\u001b[0m\u001b[0mcode\u001b[0m\u001b[0;34m,\u001b[0m \u001b[0mstart\u001b[0m\u001b[0;34m,\u001b[0m \u001b[0mend\u001b[0m\u001b[0;34m)\u001b[0m\u001b[0;34m\u001b[0m\u001b[0;34m\u001b[0m\u001b[0m\n\u001b[1;32m     39\u001b[0m             \u001b[0;32mif\u001b[0m \u001b[0mpytype\u001b[0m \u001b[0;34m==\u001b[0m \u001b[0mtokenize\u001b[0m\u001b[0;34m.\u001b[0m\u001b[0mERRORTOKEN\u001b[0m\u001b[0;34m:\u001b[0m\u001b[0;34m\u001b[0m\u001b[0;34m\u001b[0m\u001b[0m\n\u001b[0;32m---> 40\u001b[0;31m                 raise PatsyError(\n\u001b[0m\u001b[1;32m     41\u001b[0m                     \u001b[0;34m\"error tokenizing input \"\u001b[0m \u001b[0;34m\"(maybe an unclosed string?)\"\u001b[0m\u001b[0;34m,\u001b[0m \u001b[0morigin\u001b[0m\u001b[0;34m\u001b[0m\u001b[0;34m\u001b[0m\u001b[0m\n\u001b[1;32m     42\u001b[0m                 )\n",
            "\u001b[0;31mPatsyError\u001b[0m: error tokenizing input (maybe an unclosed string?)\n    `Units Sold` ~ C(Region) + C(`Competitor Pricing`) + C(Region):C(`Competitor Pricing`)\n    ^"
          ]
        }
      ]
    },
    {
      "cell_type": "markdown",
      "source": [
        "## Hypothesis-6 ( Linear Regression)\n",
        "H₀: Competitor Pricing has no significant impact on the product Price.\n",
        "\n",
        "H₁: Competitor Pricing has a significant impact on the product Price.\n"
      ],
      "metadata": {
        "id": "q7IqS3ZyP-Xw"
      }
    },
    {
      "cell_type": "code",
      "source": [
        "import statsmodels.api as sm\n",
        "# Define independent (X) and dependent (Y) variables\n",
        "X = df_capped[\"Competitor Pricing\"]  # Independent variable\n",
        "Y = df_capped[\"Price\"]  # Dependent variable\n",
        "\n",
        "# Add a constant (for the intercept)\n",
        "X = sm.add_constant(X)\n",
        "\n",
        "# Perform Linear Regression\n",
        "model = sm.OLS(Y, X).fit()\n",
        "\n",
        "# Print summary\n",
        "print(model.summary())\n",
        "\n",
        "# Extract p-value for Competitor Pricing\n",
        "p_value = model.pvalues[\"Competitor Pricing\"]\n",
        "\n",
        "# Interpretation\n",
        "alpha = 0.05  # Significance level\n",
        "if p_value < alpha:\n",
        "    print(\"Reject H₀: Competitor Pricing has a significant impact on the product Price.\")\n",
        "else:\n",
        "    print(\"Fail to reject H₀: Competitor Pricing has no significant impact on the product Price.\")"
      ],
      "metadata": {
        "colab": {
          "base_uri": "https://localhost:8080/"
        },
        "id": "XPa7m5jhQFic",
        "outputId": "4d4ae412-5cc2-47f2-bcce-509a061835a0"
      },
      "execution_count": 16,
      "outputs": [
        {
          "output_type": "stream",
          "name": "stdout",
          "text": [
            "                            OLS Regression Results                            \n",
            "==============================================================================\n",
            "Dep. Variable:                  Price   R-squared:                       0.988\n",
            "Model:                            OLS   Adj. R-squared:                  0.988\n",
            "Method:                 Least Squares   F-statistic:                 5.937e+06\n",
            "Date:                Wed, 19 Feb 2025   Prob (F-statistic):               0.00\n",
            "Time:                        17:29:58   Log-Likelihood:            -1.8079e+05\n",
            "No. Observations:               73100   AIC:                         3.616e+05\n",
            "Df Residuals:                   73098   BIC:                         3.616e+05\n",
            "Df Model:                           1                                         \n",
            "Covariance Type:            nonrobust                                         \n",
            "======================================================================================\n",
            "                         coef    std err          t      P>|t|      [0.025      0.975]\n",
            "--------------------------------------------------------------------------------------\n",
            "const                  0.6801      0.025     27.486      0.000       0.632       0.729\n",
            "Competitor Pricing     0.9875      0.000   2436.569      0.000       0.987       0.988\n",
            "==============================================================================\n",
            "Omnibus:                    53184.865   Durbin-Watson:                   2.012\n",
            "Prob(Omnibus):                  0.000   Jarque-Bera (JB):             4224.669\n",
            "Skew:                           0.006   Prob(JB):                         0.00\n",
            "Kurtosis:                       1.822   Cond. No.                         142.\n",
            "==============================================================================\n",
            "\n",
            "Notes:\n",
            "[1] Standard Errors assume that the covariance matrix of the errors is correctly specified.\n",
            "Reject H₀: Competitor Pricing has a significant impact on the product Price.\n"
          ]
        }
      ]
    },
    {
      "cell_type": "markdown",
      "source": [
        "## Hypothesis-7 (Kruskal-Wallis)\n",
        "H₀: Units Ordered do not vary significantly across different seasons.\n",
        "\n",
        "H₁: Units Ordered vary significantly across different seasons.\n"
      ],
      "metadata": {
        "id": "tEnEvze0Q8ip"
      }
    },
    {
      "cell_type": "code",
      "source": [
        "import pandas as pd\n",
        "from scipy.stats import kruskal\n",
        "\n",
        "# Group data by Season\n",
        "season_groups = [group[\"Units Ordered\"].dropna() for _, group in df_capped.groupby(\"Seasonality\")]\n",
        "\n",
        "# Perform Kruskal-Wallis Test\n",
        "stat, p_value = kruskal(*season_groups)\n",
        "\n",
        "# Print results\n",
        "print(f\"Kruskal-Wallis Statistic: {stat}\")\n",
        "print(f\"P-value: {p_value}\")\n",
        "\n",
        "# Interpretation\n",
        "alpha = 0.05  # Significance level\n",
        "if p_value < alpha:\n",
        "    print(\"Reject H₀: Units Ordered vary significantly across different seasons.\")\n",
        "else:\n",
        "    print(\"Fail to reject H₀: No significant variation in Units Ordered across seasons.\")\n"
      ],
      "metadata": {
        "colab": {
          "base_uri": "https://localhost:8080/"
        },
        "id": "8zmrlUXnRDxV",
        "outputId": "6ee402d1-d8ce-4e1e-86f4-cf24cbdcc1d2"
      },
      "execution_count": 18,
      "outputs": [
        {
          "output_type": "stream",
          "name": "stdout",
          "text": [
            "Kruskal-Wallis Statistic: 1.9096579001004208\n",
            "P-value: 0.591367580311708\n",
            "Fail to reject H₀: No significant variation in Units Ordered across seasons.\n"
          ]
        }
      ]
    },
    {
      "cell_type": "markdown",
      "source": [
        "## Hypothesis-8 (Chi-Square Test)\n",
        "H₀: Weather conditions do not affect the number of Units Sold.\n",
        "\n",
        "H₁: Weather conditions significantly affect the number of Units Sold.\n"
      ],
      "metadata": {
        "id": "mQO8LWQZRhYZ"
      }
    },
    {
      "cell_type": "code",
      "source": [
        "import pandas as pd\n",
        "import scipy.stats as stats\n",
        "\n",
        "# Create a contingency table (Weather Condition vs. Units Sold category)\n",
        "df_capped[\"Units Sold Category\"] = pd.qcut(df_capped[\"Units Sold\"], q=3, labels=[\"Low\", \"Medium\", \"High\"])  # Categorizing Units Sold\n",
        "contingency_table = pd.crosstab(df_capped[\"Weather Condition\"], df_capped[\"Units Sold Category\"])\n",
        "\n",
        "# Perform Chi-Square test\n",
        "chi2_stat, p_value, dof, expected = stats.chi2_contingency(contingency_table)\n",
        "\n",
        "# Print results\n",
        "print(f\"Chi-Square Statistic: {chi2_stat}\")\n",
        "print(f\"P-value: {p_value}\")\n",
        "\n",
        "# Interpretation\n",
        "alpha = 0.05  # Significance level\n",
        "if p_value < alpha:\n",
        "    print(\"Reject H₀: Weather conditions significantly affect the number of Units Sold.\")\n",
        "else:\n",
        "    print(\"Fail to reject H₀: Weather conditions do not significantly affect the number of Units Sold.\")\n"
      ],
      "metadata": {
        "colab": {
          "base_uri": "https://localhost:8080/"
        },
        "id": "OhtPoF6PRop2",
        "outputId": "410f3a8e-a99d-4492-a203-a67290ca3845"
      },
      "execution_count": 19,
      "outputs": [
        {
          "output_type": "stream",
          "name": "stdout",
          "text": [
            "Chi-Square Statistic: 6.704477856336725\n",
            "P-value: 0.3490434498815707\n",
            "Fail to reject H₀: Weather conditions do not significantly affect the number of Units Sold.\n"
          ]
        }
      ]
    },
    {
      "cell_type": "markdown",
      "source": [
        "## Hypothesis-9 (RMSE Comparison)\n",
        "H₀: Demand Forecast accuracy does not differ based on Category.\n",
        "\n",
        "H₁: Demand Forecast accuracy differs based on Category.\n"
      ],
      "metadata": {
        "id": "DV6oG2P6R4aH"
      }
    },
    {
      "cell_type": "code",
      "source": [
        "# Calculate RMSE for each Category\n",
        "rmse_values = {}\n",
        "for category, group in df_capped.groupby(\"Category\"):\n",
        "    actual = group[\"Units Sold\"]\n",
        "    forecasted = group[\"Demand Forecast\"]\n",
        "    rmse = np.sqrt(((actual - forecasted) ** 2).mean())  # RMSE formula\n",
        "    rmse_values[category] = rmse\n",
        "\n",
        "# Print RMSE values for each category\n",
        "print(\"RMSE for each Category:\")\n",
        "for category, rmse in rmse_values.items():\n",
        "    print(f\"{category}: {rmse}\")\n",
        "\n",
        "# Interpretation: Higher RMSE means lower accuracy in that category.\n"
      ],
      "metadata": {
        "colab": {
          "base_uri": "https://localhost:8080/"
        },
        "id": "Oj_i3pYXR88R",
        "outputId": "061469ff-d904-4fb2-fa3a-3730f024fbc0"
      },
      "execution_count": 20,
      "outputs": [
        {
          "output_type": "stream",
          "name": "stdout",
          "text": [
            "RMSE for each Category:\n",
            "Clothing: 9.990197635756303\n",
            "Electronics: 9.9175781857612\n",
            "Furniture: 9.988970609222683\n",
            "Groceries: 9.96564792709043\n",
            "Toys: 10.021323569380197\n"
          ]
        }
      ]
    }
  ]
}