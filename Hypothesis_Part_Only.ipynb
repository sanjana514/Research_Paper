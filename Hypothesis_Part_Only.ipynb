{
  "nbformat": 4,
  "nbformat_minor": 0,
  "metadata": {
    "colab": {
      "provenance": [],
      "include_colab_link": true
    },
    "kernelspec": {
      "name": "python3",
      "display_name": "Python 3"
    },
    "language_info": {
      "name": "python"
    }
  },
  "cells": [
    {
      "cell_type": "markdown",
      "metadata": {
        "id": "view-in-github",
        "colab_type": "text"
      },
      "source": [
        "<a href=\"https://colab.research.google.com/github/sanjana514/Research_Paper/blob/main/Hypothesis_Part_Only.ipynb\" target=\"_parent\"><img src=\"https://colab.research.google.com/assets/colab-badge.svg\" alt=\"Open In Colab\"/></a>"
      ]
    },
    {
      "cell_type": "code",
      "execution_count": 1,
      "metadata": {
        "colab": {
          "base_uri": "https://localhost:8080/"
        },
        "id": "dKzQ0PZ7FIUK",
        "outputId": "28f458a2-819e-490f-b6a4-2fa213730baf"
      },
      "outputs": [
        {
          "output_type": "stream",
          "name": "stdout",
          "text": [
            "/usr/local/lib/python3.11/dist-packages/gdown/__main__.py:140: FutureWarning: Option `--id` was deprecated in version 4.3.1 and will be removed in 5.0. You don't need to pass it anymore to use a file ID.\n",
            "  warnings.warn(\n",
            "Downloading...\n",
            "From: https://drive.google.com/uc?id=117TRItVrbno7pgpf9xJJX2RpJ8Wdqis2\n",
            "To: /content/df_capped.csv\n",
            "100% 6.12M/6.12M [00:00<00:00, 44.3MB/s]\n"
          ]
        }
      ],
      "source": [
        "!gdown --id 117TRItVrbno7pgpf9xJJX2RpJ8Wdqis2"
      ]
    },
    {
      "cell_type": "code",
      "source": [
        "import pandas as pd\n",
        "import numpy as np"
      ],
      "metadata": {
        "id": "4oWhn6hEFiRa"
      },
      "execution_count": 2,
      "outputs": []
    },
    {
      "cell_type": "code",
      "source": [
        "df_capped=pd.read_csv('df_capped.csv')\n",
        "df_capped.head()"
      ],
      "metadata": {
        "colab": {
          "base_uri": "https://localhost:8080/",
          "height": 310
        },
        "id": "gSW2MGhuFVMx",
        "outputId": "8d47f6d9-7212-4f63-b0d3-31f95e8f6066"
      },
      "execution_count": 3,
      "outputs": [
        {
          "output_type": "execute_result",
          "data": {
            "text/plain": [
              "         Date Store ID Product ID     Category Region  Inventory Level  \\\n",
              "0  2022-01-01     S001      P0001    Groceries  North              231   \n",
              "1  2022-01-01     S001      P0002         Toys  South              204   \n",
              "2  2022-01-01     S001      P0003         Toys   West              102   \n",
              "3  2022-01-01     S001      P0004         Toys  North              469   \n",
              "4  2022-01-01     S001      P0005  Electronics   East              166   \n",
              "\n",
              "   Units Sold  Units Ordered  Demand Forecast  Price  Discount  \\\n",
              "0         127             55           135.47  33.50        20   \n",
              "1         150             66           144.04  63.01        20   \n",
              "2          65             51            74.02  27.99        10   \n",
              "3          61            164            62.18  32.72        10   \n",
              "4          14            135             9.26  73.64         0   \n",
              "\n",
              "  Weather Condition  Holiday/Promotion  Competitor Pricing Seasonality  \n",
              "0             Rainy                  0               29.69      Autumn  \n",
              "1             Sunny                  0               66.16      Autumn  \n",
              "2             Sunny                  1               31.32      Summer  \n",
              "3            Cloudy                  1               34.74      Autumn  \n",
              "4             Sunny                  0               68.95      Summer  "
            ],
            "text/html": [
              "\n",
              "  <div id=\"df-4e064736-92f5-4e34-a25f-8e8989c57f08\" class=\"colab-df-container\">\n",
              "    <div>\n",
              "<style scoped>\n",
              "    .dataframe tbody tr th:only-of-type {\n",
              "        vertical-align: middle;\n",
              "    }\n",
              "\n",
              "    .dataframe tbody tr th {\n",
              "        vertical-align: top;\n",
              "    }\n",
              "\n",
              "    .dataframe thead th {\n",
              "        text-align: right;\n",
              "    }\n",
              "</style>\n",
              "<table border=\"1\" class=\"dataframe\">\n",
              "  <thead>\n",
              "    <tr style=\"text-align: right;\">\n",
              "      <th></th>\n",
              "      <th>Date</th>\n",
              "      <th>Store ID</th>\n",
              "      <th>Product ID</th>\n",
              "      <th>Category</th>\n",
              "      <th>Region</th>\n",
              "      <th>Inventory Level</th>\n",
              "      <th>Units Sold</th>\n",
              "      <th>Units Ordered</th>\n",
              "      <th>Demand Forecast</th>\n",
              "      <th>Price</th>\n",
              "      <th>Discount</th>\n",
              "      <th>Weather Condition</th>\n",
              "      <th>Holiday/Promotion</th>\n",
              "      <th>Competitor Pricing</th>\n",
              "      <th>Seasonality</th>\n",
              "    </tr>\n",
              "  </thead>\n",
              "  <tbody>\n",
              "    <tr>\n",
              "      <th>0</th>\n",
              "      <td>2022-01-01</td>\n",
              "      <td>S001</td>\n",
              "      <td>P0001</td>\n",
              "      <td>Groceries</td>\n",
              "      <td>North</td>\n",
              "      <td>231</td>\n",
              "      <td>127</td>\n",
              "      <td>55</td>\n",
              "      <td>135.47</td>\n",
              "      <td>33.50</td>\n",
              "      <td>20</td>\n",
              "      <td>Rainy</td>\n",
              "      <td>0</td>\n",
              "      <td>29.69</td>\n",
              "      <td>Autumn</td>\n",
              "    </tr>\n",
              "    <tr>\n",
              "      <th>1</th>\n",
              "      <td>2022-01-01</td>\n",
              "      <td>S001</td>\n",
              "      <td>P0002</td>\n",
              "      <td>Toys</td>\n",
              "      <td>South</td>\n",
              "      <td>204</td>\n",
              "      <td>150</td>\n",
              "      <td>66</td>\n",
              "      <td>144.04</td>\n",
              "      <td>63.01</td>\n",
              "      <td>20</td>\n",
              "      <td>Sunny</td>\n",
              "      <td>0</td>\n",
              "      <td>66.16</td>\n",
              "      <td>Autumn</td>\n",
              "    </tr>\n",
              "    <tr>\n",
              "      <th>2</th>\n",
              "      <td>2022-01-01</td>\n",
              "      <td>S001</td>\n",
              "      <td>P0003</td>\n",
              "      <td>Toys</td>\n",
              "      <td>West</td>\n",
              "      <td>102</td>\n",
              "      <td>65</td>\n",
              "      <td>51</td>\n",
              "      <td>74.02</td>\n",
              "      <td>27.99</td>\n",
              "      <td>10</td>\n",
              "      <td>Sunny</td>\n",
              "      <td>1</td>\n",
              "      <td>31.32</td>\n",
              "      <td>Summer</td>\n",
              "    </tr>\n",
              "    <tr>\n",
              "      <th>3</th>\n",
              "      <td>2022-01-01</td>\n",
              "      <td>S001</td>\n",
              "      <td>P0004</td>\n",
              "      <td>Toys</td>\n",
              "      <td>North</td>\n",
              "      <td>469</td>\n",
              "      <td>61</td>\n",
              "      <td>164</td>\n",
              "      <td>62.18</td>\n",
              "      <td>32.72</td>\n",
              "      <td>10</td>\n",
              "      <td>Cloudy</td>\n",
              "      <td>1</td>\n",
              "      <td>34.74</td>\n",
              "      <td>Autumn</td>\n",
              "    </tr>\n",
              "    <tr>\n",
              "      <th>4</th>\n",
              "      <td>2022-01-01</td>\n",
              "      <td>S001</td>\n",
              "      <td>P0005</td>\n",
              "      <td>Electronics</td>\n",
              "      <td>East</td>\n",
              "      <td>166</td>\n",
              "      <td>14</td>\n",
              "      <td>135</td>\n",
              "      <td>9.26</td>\n",
              "      <td>73.64</td>\n",
              "      <td>0</td>\n",
              "      <td>Sunny</td>\n",
              "      <td>0</td>\n",
              "      <td>68.95</td>\n",
              "      <td>Summer</td>\n",
              "    </tr>\n",
              "  </tbody>\n",
              "</table>\n",
              "</div>\n",
              "    <div class=\"colab-df-buttons\">\n",
              "\n",
              "  <div class=\"colab-df-container\">\n",
              "    <button class=\"colab-df-convert\" onclick=\"convertToInteractive('df-4e064736-92f5-4e34-a25f-8e8989c57f08')\"\n",
              "            title=\"Convert this dataframe to an interactive table.\"\n",
              "            style=\"display:none;\">\n",
              "\n",
              "  <svg xmlns=\"http://www.w3.org/2000/svg\" height=\"24px\" viewBox=\"0 -960 960 960\">\n",
              "    <path d=\"M120-120v-720h720v720H120Zm60-500h600v-160H180v160Zm220 220h160v-160H400v160Zm0 220h160v-160H400v160ZM180-400h160v-160H180v160Zm440 0h160v-160H620v160ZM180-180h160v-160H180v160Zm440 0h160v-160H620v160Z\"/>\n",
              "  </svg>\n",
              "    </button>\n",
              "\n",
              "  <style>\n",
              "    .colab-df-container {\n",
              "      display:flex;\n",
              "      gap: 12px;\n",
              "    }\n",
              "\n",
              "    .colab-df-convert {\n",
              "      background-color: #E8F0FE;\n",
              "      border: none;\n",
              "      border-radius: 50%;\n",
              "      cursor: pointer;\n",
              "      display: none;\n",
              "      fill: #1967D2;\n",
              "      height: 32px;\n",
              "      padding: 0 0 0 0;\n",
              "      width: 32px;\n",
              "    }\n",
              "\n",
              "    .colab-df-convert:hover {\n",
              "      background-color: #E2EBFA;\n",
              "      box-shadow: 0px 1px 2px rgba(60, 64, 67, 0.3), 0px 1px 3px 1px rgba(60, 64, 67, 0.15);\n",
              "      fill: #174EA6;\n",
              "    }\n",
              "\n",
              "    .colab-df-buttons div {\n",
              "      margin-bottom: 4px;\n",
              "    }\n",
              "\n",
              "    [theme=dark] .colab-df-convert {\n",
              "      background-color: #3B4455;\n",
              "      fill: #D2E3FC;\n",
              "    }\n",
              "\n",
              "    [theme=dark] .colab-df-convert:hover {\n",
              "      background-color: #434B5C;\n",
              "      box-shadow: 0px 1px 3px 1px rgba(0, 0, 0, 0.15);\n",
              "      filter: drop-shadow(0px 1px 2px rgba(0, 0, 0, 0.3));\n",
              "      fill: #FFFFFF;\n",
              "    }\n",
              "  </style>\n",
              "\n",
              "    <script>\n",
              "      const buttonEl =\n",
              "        document.querySelector('#df-4e064736-92f5-4e34-a25f-8e8989c57f08 button.colab-df-convert');\n",
              "      buttonEl.style.display =\n",
              "        google.colab.kernel.accessAllowed ? 'block' : 'none';\n",
              "\n",
              "      async function convertToInteractive(key) {\n",
              "        const element = document.querySelector('#df-4e064736-92f5-4e34-a25f-8e8989c57f08');\n",
              "        const dataTable =\n",
              "          await google.colab.kernel.invokeFunction('convertToInteractive',\n",
              "                                                    [key], {});\n",
              "        if (!dataTable) return;\n",
              "\n",
              "        const docLinkHtml = 'Like what you see? Visit the ' +\n",
              "          '<a target=\"_blank\" href=https://colab.research.google.com/notebooks/data_table.ipynb>data table notebook</a>'\n",
              "          + ' to learn more about interactive tables.';\n",
              "        element.innerHTML = '';\n",
              "        dataTable['output_type'] = 'display_data';\n",
              "        await google.colab.output.renderOutput(dataTable, element);\n",
              "        const docLink = document.createElement('div');\n",
              "        docLink.innerHTML = docLinkHtml;\n",
              "        element.appendChild(docLink);\n",
              "      }\n",
              "    </script>\n",
              "  </div>\n",
              "\n",
              "\n",
              "<div id=\"df-599f2166-8832-48f0-b261-3199921b8a4f\">\n",
              "  <button class=\"colab-df-quickchart\" onclick=\"quickchart('df-599f2166-8832-48f0-b261-3199921b8a4f')\"\n",
              "            title=\"Suggest charts\"\n",
              "            style=\"display:none;\">\n",
              "\n",
              "<svg xmlns=\"http://www.w3.org/2000/svg\" height=\"24px\"viewBox=\"0 0 24 24\"\n",
              "     width=\"24px\">\n",
              "    <g>\n",
              "        <path d=\"M19 3H5c-1.1 0-2 .9-2 2v14c0 1.1.9 2 2 2h14c1.1 0 2-.9 2-2V5c0-1.1-.9-2-2-2zM9 17H7v-7h2v7zm4 0h-2V7h2v10zm4 0h-2v-4h2v4z\"/>\n",
              "    </g>\n",
              "</svg>\n",
              "  </button>\n",
              "\n",
              "<style>\n",
              "  .colab-df-quickchart {\n",
              "      --bg-color: #E8F0FE;\n",
              "      --fill-color: #1967D2;\n",
              "      --hover-bg-color: #E2EBFA;\n",
              "      --hover-fill-color: #174EA6;\n",
              "      --disabled-fill-color: #AAA;\n",
              "      --disabled-bg-color: #DDD;\n",
              "  }\n",
              "\n",
              "  [theme=dark] .colab-df-quickchart {\n",
              "      --bg-color: #3B4455;\n",
              "      --fill-color: #D2E3FC;\n",
              "      --hover-bg-color: #434B5C;\n",
              "      --hover-fill-color: #FFFFFF;\n",
              "      --disabled-bg-color: #3B4455;\n",
              "      --disabled-fill-color: #666;\n",
              "  }\n",
              "\n",
              "  .colab-df-quickchart {\n",
              "    background-color: var(--bg-color);\n",
              "    border: none;\n",
              "    border-radius: 50%;\n",
              "    cursor: pointer;\n",
              "    display: none;\n",
              "    fill: var(--fill-color);\n",
              "    height: 32px;\n",
              "    padding: 0;\n",
              "    width: 32px;\n",
              "  }\n",
              "\n",
              "  .colab-df-quickchart:hover {\n",
              "    background-color: var(--hover-bg-color);\n",
              "    box-shadow: 0 1px 2px rgba(60, 64, 67, 0.3), 0 1px 3px 1px rgba(60, 64, 67, 0.15);\n",
              "    fill: var(--button-hover-fill-color);\n",
              "  }\n",
              "\n",
              "  .colab-df-quickchart-complete:disabled,\n",
              "  .colab-df-quickchart-complete:disabled:hover {\n",
              "    background-color: var(--disabled-bg-color);\n",
              "    fill: var(--disabled-fill-color);\n",
              "    box-shadow: none;\n",
              "  }\n",
              "\n",
              "  .colab-df-spinner {\n",
              "    border: 2px solid var(--fill-color);\n",
              "    border-color: transparent;\n",
              "    border-bottom-color: var(--fill-color);\n",
              "    animation:\n",
              "      spin 1s steps(1) infinite;\n",
              "  }\n",
              "\n",
              "  @keyframes spin {\n",
              "    0% {\n",
              "      border-color: transparent;\n",
              "      border-bottom-color: var(--fill-color);\n",
              "      border-left-color: var(--fill-color);\n",
              "    }\n",
              "    20% {\n",
              "      border-color: transparent;\n",
              "      border-left-color: var(--fill-color);\n",
              "      border-top-color: var(--fill-color);\n",
              "    }\n",
              "    30% {\n",
              "      border-color: transparent;\n",
              "      border-left-color: var(--fill-color);\n",
              "      border-top-color: var(--fill-color);\n",
              "      border-right-color: var(--fill-color);\n",
              "    }\n",
              "    40% {\n",
              "      border-color: transparent;\n",
              "      border-right-color: var(--fill-color);\n",
              "      border-top-color: var(--fill-color);\n",
              "    }\n",
              "    60% {\n",
              "      border-color: transparent;\n",
              "      border-right-color: var(--fill-color);\n",
              "    }\n",
              "    80% {\n",
              "      border-color: transparent;\n",
              "      border-right-color: var(--fill-color);\n",
              "      border-bottom-color: var(--fill-color);\n",
              "    }\n",
              "    90% {\n",
              "      border-color: transparent;\n",
              "      border-bottom-color: var(--fill-color);\n",
              "    }\n",
              "  }\n",
              "</style>\n",
              "\n",
              "  <script>\n",
              "    async function quickchart(key) {\n",
              "      const quickchartButtonEl =\n",
              "        document.querySelector('#' + key + ' button');\n",
              "      quickchartButtonEl.disabled = true;  // To prevent multiple clicks.\n",
              "      quickchartButtonEl.classList.add('colab-df-spinner');\n",
              "      try {\n",
              "        const charts = await google.colab.kernel.invokeFunction(\n",
              "            'suggestCharts', [key], {});\n",
              "      } catch (error) {\n",
              "        console.error('Error during call to suggestCharts:', error);\n",
              "      }\n",
              "      quickchartButtonEl.classList.remove('colab-df-spinner');\n",
              "      quickchartButtonEl.classList.add('colab-df-quickchart-complete');\n",
              "    }\n",
              "    (() => {\n",
              "      let quickchartButtonEl =\n",
              "        document.querySelector('#df-599f2166-8832-48f0-b261-3199921b8a4f button');\n",
              "      quickchartButtonEl.style.display =\n",
              "        google.colab.kernel.accessAllowed ? 'block' : 'none';\n",
              "    })();\n",
              "  </script>\n",
              "</div>\n",
              "\n",
              "    </div>\n",
              "  </div>\n"
            ],
            "application/vnd.google.colaboratory.intrinsic+json": {
              "type": "dataframe",
              "variable_name": "df_capped",
              "summary": "{\n  \"name\": \"df_capped\",\n  \"rows\": 73100,\n  \"fields\": [\n    {\n      \"column\": \"Date\",\n      \"properties\": {\n        \"dtype\": \"object\",\n        \"num_unique_values\": 731,\n        \"samples\": [\n          \"2023-12-05\",\n          \"2022-02-03\",\n          \"2022-10-28\"\n        ],\n        \"semantic_type\": \"\",\n        \"description\": \"\"\n      }\n    },\n    {\n      \"column\": \"Store ID\",\n      \"properties\": {\n        \"dtype\": \"category\",\n        \"num_unique_values\": 5,\n        \"samples\": [\n          \"S002\",\n          \"S005\",\n          \"S003\"\n        ],\n        \"semantic_type\": \"\",\n        \"description\": \"\"\n      }\n    },\n    {\n      \"column\": \"Product ID\",\n      \"properties\": {\n        \"dtype\": \"category\",\n        \"num_unique_values\": 20,\n        \"samples\": [\n          \"P0001\",\n          \"P0018\",\n          \"P0016\"\n        ],\n        \"semantic_type\": \"\",\n        \"description\": \"\"\n      }\n    },\n    {\n      \"column\": \"Category\",\n      \"properties\": {\n        \"dtype\": \"category\",\n        \"num_unique_values\": 5,\n        \"samples\": [\n          \"Toys\",\n          \"Clothing\",\n          \"Electronics\"\n        ],\n        \"semantic_type\": \"\",\n        \"description\": \"\"\n      }\n    },\n    {\n      \"column\": \"Region\",\n      \"properties\": {\n        \"dtype\": \"category\",\n        \"num_unique_values\": 4,\n        \"samples\": [\n          \"South\",\n          \"East\",\n          \"North\"\n        ],\n        \"semantic_type\": \"\",\n        \"description\": \"\"\n      }\n    },\n    {\n      \"column\": \"Inventory Level\",\n      \"properties\": {\n        \"dtype\": \"number\",\n        \"std\": 129,\n        \"min\": 50,\n        \"max\": 500,\n        \"num_unique_values\": 451,\n        \"samples\": [\n          98,\n          375,\n          212\n        ],\n        \"semantic_type\": \"\",\n        \"description\": \"\"\n      }\n    },\n    {\n      \"column\": \"Units Sold\",\n      \"properties\": {\n        \"dtype\": \"number\",\n        \"std\": 108,\n        \"min\": 0,\n        \"max\": 434,\n        \"num_unique_values\": 435,\n        \"samples\": [\n          119,\n          171,\n          136\n        ],\n        \"semantic_type\": \"\",\n        \"description\": \"\"\n      }\n    },\n    {\n      \"column\": \"Units Ordered\",\n      \"properties\": {\n        \"dtype\": \"number\",\n        \"std\": 52,\n        \"min\": 20,\n        \"max\": 200,\n        \"num_unique_values\": 181,\n        \"samples\": [\n          144,\n          124,\n          87\n        ],\n        \"semantic_type\": \"\",\n        \"description\": \"\"\n      }\n    },\n    {\n      \"column\": \"Demand Forecast\",\n      \"properties\": {\n        \"dtype\": \"number\",\n        \"std\": 108.60218779982787,\n        \"min\": -9.99,\n        \"max\": 439.62625,\n        \"num_unique_values\": 30920,\n        \"samples\": [\n          85.04,\n          209.47,\n          272.27\n        ],\n        \"semantic_type\": \"\",\n        \"description\": \"\"\n      }\n    },\n    {\n      \"column\": \"Price\",\n      \"properties\": {\n        \"dtype\": \"number\",\n        \"std\": 26.021944625625636,\n        \"min\": 10.0,\n        \"max\": 100.0,\n        \"num_unique_values\": 8999,\n        \"samples\": [\n          61.69,\n          54.33,\n          33.89\n        ],\n        \"semantic_type\": \"\",\n        \"description\": \"\"\n      }\n    },\n    {\n      \"column\": \"Discount\",\n      \"properties\": {\n        \"dtype\": \"number\",\n        \"std\": 7,\n        \"min\": 0,\n        \"max\": 20,\n        \"num_unique_values\": 5,\n        \"samples\": [\n          10,\n          15,\n          0\n        ],\n        \"semantic_type\": \"\",\n        \"description\": \"\"\n      }\n    },\n    {\n      \"column\": \"Weather Condition\",\n      \"properties\": {\n        \"dtype\": \"category\",\n        \"num_unique_values\": 4,\n        \"samples\": [\n          \"Sunny\",\n          \"Snowy\",\n          \"Rainy\"\n        ],\n        \"semantic_type\": \"\",\n        \"description\": \"\"\n      }\n    },\n    {\n      \"column\": \"Holiday/Promotion\",\n      \"properties\": {\n        \"dtype\": \"number\",\n        \"std\": 0,\n        \"min\": 0,\n        \"max\": 1,\n        \"num_unique_values\": 2,\n        \"samples\": [\n          1,\n          0\n        ],\n        \"semantic_type\": \"\",\n        \"description\": \"\"\n      }\n    },\n    {\n      \"column\": \"Competitor Pricing\",\n      \"properties\": {\n        \"dtype\": \"number\",\n        \"std\": 26.19140786909631,\n        \"min\": 5.03,\n        \"max\": 104.94,\n        \"num_unique_values\": 9751,\n        \"samples\": [\n          96.16,\n          22.17\n        ],\n        \"semantic_type\": \"\",\n        \"description\": \"\"\n      }\n    },\n    {\n      \"column\": \"Seasonality\",\n      \"properties\": {\n        \"dtype\": \"category\",\n        \"num_unique_values\": 4,\n        \"samples\": [\n          \"Summer\",\n          \"Spring\"\n        ],\n        \"semantic_type\": \"\",\n        \"description\": \"\"\n      }\n    }\n  ]\n}"
            }
          },
          "metadata": {},
          "execution_count": 3
        }
      ]
    },
    {
      "cell_type": "markdown",
      "source": [
        "# Hypothesis Testing\n",
        "\n",
        "## Hypothesis-1\n",
        "#### Null Hypothesis (H₀): There is no significant correlation between Inventory Level and Units Sold.\n",
        "#### Alternative Hypothesis (H₁): There is a significant correlation between Inventory Level and Units Sold.\n",
        "Method : Pearson Correlation\n",
        "\n",
        "## Hypothesis-2\n",
        "#### H₀: Higher discounts do not significantly increase Units Sold.\n",
        "#### H₁: Higher discounts significantly increase Units Sold.\n",
        "Method : T-Test\n",
        "\n",
        "## Hypothesis-3\n",
        "#### H₀: There is no significant increase in Sales during Holiday/Promotion periods.\n",
        "#### H₁: Sales significantly increase during Holiday/Promotion periods.\n",
        "Method : T-Test\n",
        "\n",
        "## Hypothesis-4\n",
        "#### H₀: Demand Forecast does not significantly differ across different regions.\n",
        "#### H₁: Demand Forecast significantly differs across different regions.\n",
        "Method : ANOVA test\n",
        "\n",
        "## Hypothesis-5\n",
        "#### H₀: Competitor Pricing has no significant impact on the product Price.\n",
        "#### H₁: Competitor Pricing has a significant impact on the product Price.\n",
        "Method : Linear Regression\n",
        "\n",
        "## Hypothesis-6\n",
        "#### H₀: Units Ordered do not vary significantly across different seasons.\n",
        "#### H₁: Units Ordered vary significantly across different seasons.\n",
        "Method : Kruskal-Wallis\n",
        "\n",
        "## Hypothesis-7\n",
        "#### H₀: Weather conditions do not affect the number of Units Sold.\n",
        "#### H₁: Weather conditions significantly affect the number of Units Sold.\n",
        "Method : Chi-Square Test\n",
        "\n",
        "## Hypothesis-8\n",
        "#### H₀: Demand Forecast accuracy does not differ based on Category.\n",
        "#### H₁: Demand Forecast accuracy differs based on Category.\n",
        "Method : RMSE Comparison (Root Mean Squared Error.)\n",
        "\n",
        "## Hypothesis-9\n",
        "#### H₀: Dynamic pricing strategies based on Demand Forecast do not improve revenue.\n",
        "#### H₁: Dynamic pricing strategies based on Demand Forecast improve revenue.\n",
        "Method : A/B Testing\n",
        "\n",
        "## Hypothesis-10\n",
        "#### H₀: Sales remain constant across different seasons.\n",
        "#### H₁: Sales vary significantly across seasons.\n",
        "Method : Time Series Decomposition\n",
        "\n",
        "## Hypothesis-11\n",
        "#### H₀: The price of a product does not affect its sales volume.\n",
        "#### H₁: High-priced products tend to have lower sales volume.\n",
        "Method : Spearman Rank Correlation\n",
        "\n",
        "## Hypothesis-12\n",
        "#### H₀: There is no difference in sales between weekdays and weekends.\n",
        "#### H₁: Sales increase on weekends.\n",
        "Method : Wilcoxon Signed-Rank Test\n",
        "\n",
        "## Hypothesis-13\n",
        "#### H₀: The distribution of Prices is the same during and outside of Holiday/Promotion periods.\n",
        "#### H₁: Price distributions differ significantly between Holiday/Promotion and normal days.\n",
        "Method : Mann-Whitney U Test\n",
        "\n",
        "## Hypothesis-14\n",
        "#### H₀: The accuracy of Demand Forecast does not improve over time.\n",
        "#### H₁: The accuracy of Demand Forecast improves over time.\n",
        "Method : Mean Absolute Error (MAE)\n",
        "\n",
        "## Hypothesis-15\n",
        "#### H₀: Customers in different Regions do not show different Price Sensitivity.\n",
        "#### H₁: Customers in different Regions have significantly different Price Sensitivity.\n",
        "Method : Hierarchical Clustering\n",
        "\n",
        "## Hypothesis-16\n",
        "#### H₀: Price Elasticity is not significant for product demand.\n",
        "#### H₁: Price Elasticity significantly affects demand.\n",
        "Method : Log-Log Regression Model\n",
        "\n",
        "## Hypothesis-17\n",
        "#### H₀: Sales variance is equal across different Stores.\n",
        "#### H₁: Sales variance differs significantly across Stores.\n",
        "Method : Levene’s Test"
      ],
      "metadata": {
        "id": "JwU4yqzoKwrO"
      }
    },
    {
      "cell_type": "markdown",
      "source": [],
      "metadata": {
        "id": "zZ_8VtCmF4iT"
      }
    },
    {
      "cell_type": "markdown",
      "source": [
        "## Hypothesis-1 (Pearson Correlation)\n",
        "H₀ : There is no significant correlation between Inventory Level and Units Sold.\n",
        "\n",
        "H₁ : There is a significant correlation between Inventory Level and Units Sold.\n"
      ],
      "metadata": {
        "id": "MrOLo_BQKsMe"
      }
    },
    {
      "cell_type": "code",
      "execution_count": 4,
      "metadata": {
        "colab": {
          "base_uri": "https://localhost:8080/"
        },
        "id": "t5Z-5AWVF5qS",
        "outputId": "6ce27ac2-cb26-4ca0-d2b5-c608771a628f"
      },
      "outputs": [
        {
          "output_type": "stream",
          "name": "stdout",
          "text": [
            "Requirement already satisfied: scipy in /usr/local/lib/python3.11/dist-packages (1.13.1)\n",
            "Requirement already satisfied: numpy<2.3,>=1.22.4 in /usr/local/lib/python3.11/dist-packages (from scipy) (1.26.4)\n",
            "Pearson Correlation Coefficient: 0.5901899467262202\n",
            "P-value: 0.0\n",
            "Reject H₀: Significant correlation exists.\n"
          ]
        }
      ],
      "source": [
        "!pip install scipy\n",
        "import scipy.stats as stats\n",
        "\n",
        "# Select the two columns\n",
        "inventory = df_capped[\"Inventory Level\"]\n",
        "units_sold = df_capped[\"Units Sold\"]\n",
        "\n",
        "# Perform Pearson correlation test\n",
        "correlation, p_value = stats.pearsonr(inventory, units_sold)\n",
        "\n",
        "# Print results\n",
        "print(f\"Pearson Correlation Coefficient: {correlation}\")\n",
        "print(f\"P-value: {p_value}\")\n",
        "\n",
        "# Interpretation\n",
        "if p_value < 0.05:\n",
        "    print(\"Reject H₀: Significant correlation exists.\")\n",
        "else:\n",
        "    print(\"Fail to reject H₀: No significant correlation.\")"
      ]
    },
    {
      "cell_type": "markdown",
      "source": [
        "## Hypothesis-2 ( T-Test )\n",
        "H₀ : Higher discounts do not significantly increase Units Sold.\n",
        "\n",
        "H₁ : Higher discounts significantly increase Units Sold."
      ],
      "metadata": {
        "id": "uK4oMwIOLmtW"
      }
    },
    {
      "cell_type": "code",
      "source": [
        "from scipy.stats import ttest_ind\n",
        "# Splitting data based on Discount levels\n",
        "median_discount = df_capped[\"Discount\"].median()\n",
        "low_discount_group = df_capped[df_capped[\"Discount\"] <= median_discount][\"Units Sold\"]\n",
        "high_discount_group = df_capped[df_capped[\"Discount\"] > median_discount][\"Units Sold\"]\n",
        "\n",
        "# Perform T-Test\n",
        "t_stat, p_value = ttest_ind(low_discount_group, high_discount_group, equal_var=False)\n",
        "\n",
        "# Print results\n",
        "print(f\"T-Statistic: {t_stat}\")\n",
        "print(f\"P-value: {p_value}\")\n",
        "\n",
        "# Interpretation\n",
        "alpha = 0.05  # Significance level\n",
        "if p_value < alpha:\n",
        "    print(\"Reject H₀: Higher discounts significantly increase Units Sold.\")\n",
        "else:\n",
        "    print(\"Fail to reject H₀: No significant effect of discount on Units Sold.\")"
      ],
      "metadata": {
        "colab": {
          "base_uri": "https://localhost:8080/"
        },
        "id": "eoJ40J0kL8qM",
        "outputId": "c369efbf-a8bc-467c-a141-f229fbc31e49"
      },
      "execution_count": 5,
      "outputs": [
        {
          "output_type": "stream",
          "name": "stdout",
          "text": [
            "T-Statistic: -0.3347645284016671\n",
            "P-value: 0.7378038362568219\n",
            "Fail to reject H₀: No significant effect of discount on Units Sold.\n"
          ]
        }
      ]
    },
    {
      "cell_type": "markdown",
      "source": [
        "## Hypothesis-3 ( T-test)\n",
        "H₀: There is no significant increase in Sales during Holiday/Promotion periods.\n",
        "\n",
        "H₁: Sales significantly increase during Holiday/Promotion periods.\n"
      ],
      "metadata": {
        "id": "CRMYBFc_MhCx"
      }
    },
    {
      "cell_type": "code",
      "source": [
        "# Splitting data into two groups: Holiday/Promotion vs. Non-Holiday\n",
        "holiday_sales = df_capped[df_capped[\"Holiday/Promotion\"] == 1][\"Units Sold\"]\n",
        "non_holiday_sales = df_capped[df_capped[\"Holiday/Promotion\"] == 0][\"Units Sold\"]\n",
        "\n",
        "# Perform Independent T-Test\n",
        "t_stat, p_value = ttest_ind(holiday_sales, non_holiday_sales, equal_var=False)\n",
        "\n",
        "# Print results\n",
        "print(f\"T-Statistic: {t_stat}\")\n",
        "print(f\"P-value: {p_value}\")\n",
        "\n",
        "# Interpretation\n",
        "alpha = 0.05  # Significance level\n",
        "if p_value < alpha:\n",
        "    print(\"Reject H₀: Sales significantly increase during Holiday/Promotion periods.\")\n",
        "else:\n",
        "    print(\"Fail to reject H₀: No significant increase in sales during Holiday/Promotion periods.\")"
      ],
      "metadata": {
        "id": "5ZWmCYzgM-gO",
        "colab": {
          "base_uri": "https://localhost:8080/"
        },
        "outputId": "a5c1a0d2-6fb9-4103-abbe-0c4ef34d7e0e"
      },
      "execution_count": 6,
      "outputs": [
        {
          "output_type": "stream",
          "name": "stdout",
          "text": [
            "T-Statistic: -0.06393788316138897\n",
            "P-value: 0.949019862409233\n",
            "Fail to reject H₀: No significant increase in sales during Holiday/Promotion periods.\n"
          ]
        }
      ]
    },
    {
      "cell_type": "markdown",
      "source": [
        "## Hypothesis-4 (ANOVA test)\n",
        "H₀: Demand Forecast does not significantly differ across different regions.\n",
        "\n",
        "H₁: Demand Forecast significantly differs across different regions.\n"
      ],
      "metadata": {
        "id": "Fs-W9Q1iNDuZ"
      }
    },
    {
      "cell_type": "code",
      "source": [
        "from scipy.stats import f_oneway\n",
        "\n",
        "# Group Demand Forecast by Region\n",
        "regions = df_capped[\"Region\"].unique()  # Get all unique regions\n",
        "demand_forecast_groups = [df_capped[df_capped[\"Region\"] == region][\"Demand Forecast\"] for region in regions]\n",
        "\n",
        "# Perform ANOVA Test\n",
        "f_stat, p_value = f_oneway(*demand_forecast_groups)\n",
        "\n",
        "# Print results\n",
        "print(f\"F-Statistic: {f_stat}\")\n",
        "print(f\"P-value: {p_value}\")\n",
        "\n",
        "# Interpretation\n",
        "alpha = 0.05  # Significance level\n",
        "if p_value < alpha:\n",
        "    print(\"Reject H₀: Demand Forecast significantly differs across different regions.\")\n",
        "else:\n",
        "    print(\"Fail to reject H₀: No significant difference in Demand Forecast across regions.\")"
      ],
      "metadata": {
        "colab": {
          "base_uri": "https://localhost:8080/"
        },
        "id": "CRdD6pooNpMj",
        "outputId": "36aab7e4-bf09-496d-e9c6-df445c029a89"
      },
      "execution_count": 7,
      "outputs": [
        {
          "output_type": "stream",
          "name": "stdout",
          "text": [
            "F-Statistic: 0.6014816277995594\n",
            "P-value: 0.6139703158996084\n",
            "Fail to reject H₀: No significant difference in Demand Forecast across regions.\n"
          ]
        }
      ]
    },
    {
      "cell_type": "markdown",
      "source": [
        "## Hypothesis-5 ( Linear Regression)\n",
        "H₀: Competitor Pricing has no significant impact on the product Price.\n",
        "\n",
        "H₁: Competitor Pricing has a significant impact on the product Price.\n"
      ],
      "metadata": {
        "id": "q7IqS3ZyP-Xw"
      }
    },
    {
      "cell_type": "code",
      "source": [
        "import statsmodels.api as sm\n",
        "# Define independent (X) and dependent (Y) variables\n",
        "X = df_capped[\"Competitor Pricing\"]  # Independent variable\n",
        "Y = df_capped[\"Price\"]  # Dependent variable\n",
        "\n",
        "# Add a constant (for the intercept)\n",
        "X = sm.add_constant(X)\n",
        "\n",
        "# Perform Linear Regression\n",
        "model = sm.OLS(Y, X).fit()\n",
        "\n",
        "# Print summary\n",
        "print(model.summary())\n",
        "\n",
        "# Extract p-value for Competitor Pricing\n",
        "p_value = model.pvalues[\"Competitor Pricing\"]\n",
        "\n",
        "# Interpretation\n",
        "alpha = 0.05  # Significance level\n",
        "if p_value < alpha:\n",
        "    print(\"Reject H₀: Competitor Pricing has a significant impact on the product Price.\")\n",
        "else:\n",
        "    print(\"Fail to reject H₀: Competitor Pricing has no significant impact on the product Price.\")"
      ],
      "metadata": {
        "id": "XPa7m5jhQFic",
        "colab": {
          "base_uri": "https://localhost:8080/"
        },
        "outputId": "156a3bb8-f04d-40f0-f378-37f14cbc97cb"
      },
      "execution_count": 8,
      "outputs": [
        {
          "output_type": "stream",
          "name": "stdout",
          "text": [
            "                            OLS Regression Results                            \n",
            "==============================================================================\n",
            "Dep. Variable:                  Price   R-squared:                       0.988\n",
            "Model:                            OLS   Adj. R-squared:                  0.988\n",
            "Method:                 Least Squares   F-statistic:                 5.937e+06\n",
            "Date:                Sat, 22 Feb 2025   Prob (F-statistic):               0.00\n",
            "Time:                        04:57:01   Log-Likelihood:            -1.8079e+05\n",
            "No. Observations:               73100   AIC:                         3.616e+05\n",
            "Df Residuals:                   73098   BIC:                         3.616e+05\n",
            "Df Model:                           1                                         \n",
            "Covariance Type:            nonrobust                                         \n",
            "======================================================================================\n",
            "                         coef    std err          t      P>|t|      [0.025      0.975]\n",
            "--------------------------------------------------------------------------------------\n",
            "const                  0.6801      0.025     27.486      0.000       0.632       0.729\n",
            "Competitor Pricing     0.9875      0.000   2436.569      0.000       0.987       0.988\n",
            "==============================================================================\n",
            "Omnibus:                    53184.865   Durbin-Watson:                   2.012\n",
            "Prob(Omnibus):                  0.000   Jarque-Bera (JB):             4224.669\n",
            "Skew:                           0.006   Prob(JB):                         0.00\n",
            "Kurtosis:                       1.822   Cond. No.                         142.\n",
            "==============================================================================\n",
            "\n",
            "Notes:\n",
            "[1] Standard Errors assume that the covariance matrix of the errors is correctly specified.\n",
            "Reject H₀: Competitor Pricing has a significant impact on the product Price.\n"
          ]
        }
      ]
    },
    {
      "cell_type": "markdown",
      "source": [
        "## Hypothesis-6 (Kruskal-Wallis)\n",
        "H₀: Units Ordered do not vary significantly across different seasons.\n",
        "\n",
        "H₁: Units Ordered vary significantly across different seasons.\n"
      ],
      "metadata": {
        "id": "tEnEvze0Q8ip"
      }
    },
    {
      "cell_type": "code",
      "source": [
        "import pandas as pd\n",
        "from scipy.stats import kruskal\n",
        "\n",
        "# Group data by Season\n",
        "season_groups = [group[\"Units Ordered\"].dropna() for _, group in df_capped.groupby(\"Seasonality\")]\n",
        "\n",
        "# Perform Kruskal-Wallis Test\n",
        "stat, p_value = kruskal(*season_groups)\n",
        "\n",
        "# Print results\n",
        "print(f\"Kruskal-Wallis Statistic: {stat}\")\n",
        "print(f\"P-value: {p_value}\")\n",
        "\n",
        "# Interpretation\n",
        "alpha = 0.05  # Significance level\n",
        "if p_value < alpha:\n",
        "    print(\"Reject H₀: Units Ordered vary significantly across different seasons.\")\n",
        "else:\n",
        "    print(\"Fail to reject H₀: No significant variation in Units Ordered across seasons.\")\n"
      ],
      "metadata": {
        "id": "8zmrlUXnRDxV",
        "colab": {
          "base_uri": "https://localhost:8080/"
        },
        "outputId": "2861e9ff-f1c3-426a-bc7b-52aa72e67973"
      },
      "execution_count": 9,
      "outputs": [
        {
          "output_type": "stream",
          "name": "stdout",
          "text": [
            "Kruskal-Wallis Statistic: 1.9096579001004208\n",
            "P-value: 0.591367580311708\n",
            "Fail to reject H₀: No significant variation in Units Ordered across seasons.\n"
          ]
        }
      ]
    },
    {
      "cell_type": "markdown",
      "source": [
        "## Hypothesis-7 (Chi-Square Test)\n",
        "H₀: Weather conditions do not affect the number of Units Sold.\n",
        "\n",
        "H₁: Weather conditions significantly affect the number of Units Sold.\n"
      ],
      "metadata": {
        "id": "mQO8LWQZRhYZ"
      }
    },
    {
      "cell_type": "code",
      "source": [
        "import pandas as pd\n",
        "import scipy.stats as stats\n",
        "\n",
        "# Create a contingency table (Weather Condition vs. Units Sold category)\n",
        "df_capped[\"Units Sold Category\"] = pd.qcut(df_capped[\"Units Sold\"], q=3, labels=[\"Low\", \"Medium\", \"High\"])  # Categorizing Units Sold\n",
        "contingency_table = pd.crosstab(df_capped[\"Weather Condition\"], df_capped[\"Units Sold Category\"])\n",
        "print(contingency_table)\n",
        "\n",
        "# Perform Chi-Square test\n",
        "chi2_stat, p_value, dof, expected = stats.chi2_contingency(contingency_table)\n",
        "\n",
        "# Print results\n",
        "print(f\"Chi-Square Statistic: {chi2_stat}\")\n",
        "print(f\"P-value: {p_value}\")\n",
        "\n",
        "# Interpretation\n",
        "alpha = 0.05  # Significance level\n",
        "if p_value < alpha:\n",
        "    print(\"Reject H₀: Weather conditions significantly affect the number of Units Sold.\")\n",
        "else:\n",
        "    print(\"Fail to reject H₀: Weather conditions do not significantly affect the number of Units Sold.\")\n"
      ],
      "metadata": {
        "id": "OhtPoF6PRop2",
        "colab": {
          "base_uri": "https://localhost:8080/"
        },
        "outputId": "992a0906-5d09-46f1-e098-5b64f79292a6"
      },
      "execution_count": 23,
      "outputs": [
        {
          "output_type": "stream",
          "name": "stdout",
          "text": [
            "Units Sold Category   Low  Medium  High\n",
            "Weather Condition                      \n",
            "Cloudy               6086    6096  6078\n",
            "Rainy                6219    6046  6013\n",
            "Snowy                6249    6043  5980\n",
            "Sunny                6089    6049  6152\n",
            "Chi-Square Statistic: 6.704477856336725\n",
            "P-value: 0.3490434498815707\n",
            "Fail to reject H₀: Weather conditions do not significantly affect the number of Units Sold.\n"
          ]
        }
      ]
    },
    {
      "cell_type": "markdown",
      "source": [
        "## Hypothesis-8 (RMSE Comparison)\n",
        "H₀: Demand Forecast accuracy does not differ based on Category.\n",
        "\n",
        "H₁: Demand Forecast accuracy differs based on Category.\n"
      ],
      "metadata": {
        "id": "DV6oG2P6R4aH"
      }
    },
    {
      "cell_type": "code",
      "source": [
        "# Calculate RMSE for each Category\n",
        "rmse_values = {}\n",
        "for category, group in df_capped.groupby(\"Category\"):\n",
        "    actual = group[\"Units Sold\"]\n",
        "    forecasted = group[\"Demand Forecast\"]\n",
        "    rmse = np.sqrt(((actual - forecasted) ** 2).mean())  # RMSE formula\n",
        "    rmse_values[category] = rmse\n",
        "\n",
        "# Print RMSE values for each category\n",
        "print(\"RMSE for each Category:\")\n",
        "for category, rmse in rmse_values.items():\n",
        "    print(f\"{category}: {rmse}\")\n",
        "\n",
        "# Interpretation: Higher RMSE means lower accuracy in that category.\n",
        "# Prepare RMSE groups for statistical testing\n",
        "rmse_groups = [group[\"Units Sold\"] - group[\"Demand Forecast\"] for _, group in df_capped.groupby(\"Category\")]\n",
        "\n",
        "# Perform Kruskal-Wallis Test\n",
        "stat, p_value = kruskal(*rmse_groups)\n",
        "\n",
        "# Print results\n",
        "print(f\"Kruskal-Wallis Statistic: {stat}\")\n",
        "print(f\"P-value: {p_value}\")\n",
        "\n",
        "# Interpretation\n",
        "alpha = 0.05  # Significance level\n",
        "if p_value < alpha:\n",
        "    print(\"Reject H₀: Forecast accuracy differs significantly across categories.\")\n",
        "else:\n",
        "    print(\"Fail to reject H₀: No significant difference in forecast accuracy across categories.\")\n",
        "\n"
      ],
      "metadata": {
        "id": "Oj_i3pYXR88R",
        "colab": {
          "base_uri": "https://localhost:8080/"
        },
        "outputId": "88a2bcc0-c1f4-4c26-9153-bebb35f3b871"
      },
      "execution_count": 24,
      "outputs": [
        {
          "output_type": "stream",
          "name": "stdout",
          "text": [
            "RMSE for each Category:\n",
            "Clothing: 9.990197635756305\n",
            "Electronics: 9.9175781857612\n",
            "Furniture: 9.988970609222683\n",
            "Groceries: 9.965647927090433\n",
            "Toys: 10.021323569380197\n",
            "Kruskal-Wallis Statistic: 2.4303716388166827\n",
            "P-value: 0.6571456943705474\n",
            "Fail to reject H₀: No significant difference in forecast accuracy across categories.\n"
          ]
        }
      ]
    },
    {
      "cell_type": "markdown",
      "source": [
        "## Hypothesis-9 (A/B Testing)\n",
        "H₀: Dynamic pricing strategies based on Demand Forecast do not improve revenue.\n",
        "\n",
        "H₁: Dynamic pricing strategies based on Demand Forecast improve revenue.\n"
      ],
      "metadata": {
        "id": "I9k77q9JUR8r"
      }
    },
    {
      "cell_type": "code",
      "source": [
        "# Define groups\n",
        "group_A = df_capped[df_capped[\"Price\"] == df_capped[\"Competitor Pricing\"]][\"Units Sold\"]  # Regular Pricing\n",
        "group_B = df_capped[df_capped[\"Price\"] != df_capped[\"Competitor Pricing\"]][\"Units Sold\"]  # Dynamic Pricing\n",
        "\n",
        "# Perform independent t-test\n",
        "t_stat, p_value = stats.ttest_ind(group_A, group_B, equal_var=False)\n",
        "\n",
        "# Print results\n",
        "print(f\"T-Statistic: {t_stat}\")\n",
        "print(f\"P-value: {p_value}\")\n",
        "\n",
        "# Interpretation\n",
        "if p_value < 0.05:\n",
        "    print(\"Reject H₀: Dynamic Pricing significantly improves revenue.\")\n",
        "else:\n",
        "    print(\"Fail to reject H₀: No significant improvement in revenue.\")"
      ],
      "metadata": {
        "id": "yi5f-KqRUYVv",
        "colab": {
          "base_uri": "https://localhost:8080/"
        },
        "outputId": "a7019160-2208-4b4d-c479-f9ac926be04d"
      },
      "execution_count": 12,
      "outputs": [
        {
          "output_type": "stream",
          "name": "stdout",
          "text": [
            "T-Statistic: 0.07700925635170948\n",
            "P-value: 0.938867794631469\n",
            "Fail to reject H₀: No significant improvement in revenue.\n"
          ]
        }
      ]
    },
    {
      "cell_type": "markdown",
      "source": [
        "## Hypothesis-10 (Spearman Rank Correlation)\n",
        "H₀: The price of a product does not affect its sales volume.\n",
        "\n",
        "H₁: High-priced products tend to have lower sales volume.\n"
      ],
      "metadata": {
        "id": "hWIeGcCHXTpL"
      }
    },
    {
      "cell_type": "code",
      "source": [
        "from scipy.stats import spearmanr\n",
        "\n",
        "prices = df_capped[\"Price\"]\n",
        "sales = df_capped[\"Units Sold\"]\n",
        "\n",
        "# Perform Spearman correlation test\n",
        "correlation, p_value = spearmanr(prices, sales)\n",
        "\n",
        "# Print results\n",
        "print(f\"Spearman Correlation Coefficient: {correlation}\")\n",
        "print(f\"P-value: {p_value}\")\n",
        "\n",
        "# Interpretation\n",
        "if p_value < 0.05:\n",
        "    print(\"Reject H₀: Price significantly affects sales volume.\")\n",
        "else:\n",
        "    print(\"Fail to reject H₀: No significant relationship between price and sales.\")\n"
      ],
      "metadata": {
        "id": "HC-qrLRAXps-",
        "colab": {
          "base_uri": "https://localhost:8080/"
        },
        "outputId": "a4576feb-a650-45ca-8e4b-8a4134518a44"
      },
      "execution_count": 14,
      "outputs": [
        {
          "output_type": "stream",
          "name": "stdout",
          "text": [
            "Spearman Correlation Coefficient: 6.075634768726546e-05\n",
            "P-value: 0.9868942025327657\n",
            "Fail to reject H₀: No significant relationship between price and sales.\n"
          ]
        }
      ]
    },
    {
      "cell_type": "markdown",
      "source": [
        "## Hypothesis-11 (Wilcoxon Signed-Rank Test)\n",
        "H₀: There is no difference in sales between weekdays and weekends.\n",
        "\n",
        "H₁: Sales increase on weekends.\n"
      ],
      "metadata": {
        "id": "z9q5RWIuX8lJ"
      }
    },
    {
      "cell_type": "code",
      "source": [
        "from scipy.stats import wilcoxon\n",
        "\n",
        "# Convert 'Date' to datetime format if not already\n",
        "df_capped[\"Date\"] = pd.to_datetime(df_capped[\"Date\"])\n",
        "\n",
        "# Extract weekdays (Monday-Friday) and weekends (Saturday-Sunday)\n",
        "df_capped[\"Day\"] = df_capped[\"Date\"].dt.dayofweek  # Monday=0, Sunday=6\n",
        "\n",
        "weekday_sales = df_capped[df_capped[\"Day\"] < 5][\"Units Sold\"]\n",
        "weekend_sales = df_capped[df_capped[\"Day\"] >= 5][\"Units Sold\"]\n",
        "\n",
        "# Perform Wilcoxon Signed-Rank Test\n",
        "stat, p_value = wilcoxon(weekday_sales[:len(weekend_sales)], weekend_sales)\n",
        "\n",
        "# Print results\n",
        "print(f\"Wilcoxon Statistic: {stat}\")\n",
        "print(f\"P-value: {p_value}\")\n",
        "\n",
        "# Interpretation\n",
        "if p_value < 0.05:\n",
        "    print(\"Reject H₀: Sales significantly increase on weekends.\")\n",
        "else:\n",
        "    print(\"Fail to reject H₀: No significant difference in sales between weekdays and weekends.\")\n"
      ],
      "metadata": {
        "id": "SQAsWWq6YDGG",
        "colab": {
          "base_uri": "https://localhost:8080/"
        },
        "outputId": "dc355d8f-4244-4561-fe59-48db987bb705"
      },
      "execution_count": 15,
      "outputs": [
        {
          "output_type": "stream",
          "name": "stdout",
          "text": [
            "Wilcoxon Statistic: 108771426.0\n",
            "P-value: 0.3404495890568079\n",
            "Fail to reject H₀: No significant difference in sales between weekdays and weekends.\n"
          ]
        }
      ]
    },
    {
      "cell_type": "markdown",
      "source": [
        "## Hypothesis-12 (Mann-Whitney U Test)\n",
        "H₀: The distribution of Prices is the same during and outside of Holiday/Promotion periods.\n",
        "\n",
        "H₁: Price distributions differ significantly between Holiday/Promotion and normal days.\n",
        "\n",
        "\n"
      ],
      "metadata": {
        "id": "zzXRg7wTYZ28"
      }
    },
    {
      "cell_type": "code",
      "source": [
        "from scipy.stats import mannwhitneyu\n",
        "\n",
        "# Split data into Holiday/Promotion and Normal days\n",
        "holiday_prices = df_capped[df_capped[\"Holiday/Promotion\"] == 1][\"Price\"]\n",
        "normal_prices = df_capped[df_capped[\"Holiday/Promotion\"] == 0][\"Price\"]\n",
        "\n",
        "# Perform Mann-Whitney U Test\n",
        "stat, p_value = mannwhitneyu(holiday_prices, normal_prices)\n",
        "\n",
        "# Print results\n",
        "print(f\"Mann-Whitney U Statistic: {stat}\")\n",
        "print(f\"P-value: {p_value}\")\n",
        "\n",
        "# Interpretation\n",
        "if p_value < 0.05:\n",
        "    print(\"Reject H₀: Price distributions significantly differ during Holiday/Promotion periods.\")\n",
        "else:\n",
        "    print(\"Fail to reject H₀: No significant difference in price distributions.\")\n"
      ],
      "metadata": {
        "id": "1J0P0JCWYhY8",
        "colab": {
          "base_uri": "https://localhost:8080/"
        },
        "outputId": "77bee7d2-322d-40ce-a982-e459860a1ad6"
      },
      "execution_count": 16,
      "outputs": [
        {
          "output_type": "stream",
          "name": "stdout",
          "text": [
            "Mann-Whitney U Statistic: 669718811.5\n",
            "P-value: 0.5310409631280744\n",
            "Fail to reject H₀: No significant difference in price distributions.\n"
          ]
        }
      ]
    },
    {
      "cell_type": "markdown",
      "source": [
        "##Hypothesis-13 (MAE)\n",
        "H₀: The accuracy of Demand Forecast does not improve over time.\n",
        "\n",
        "H₁: The accuracy of Demand Forecast improves over time.\n"
      ],
      "metadata": {
        "id": "hiiOjI19Yh6H"
      }
    },
    {
      "cell_type": "code",
      "source": [
        "from sklearn.metrics import mean_absolute_error\n",
        "\n",
        "# Sort data by Date\n",
        "df_capped[\"Date\"] = pd.to_datetime(df_capped[\"Date\"])\n",
        "df_capped = df_capped.sort_values(\"Date\")\n",
        "\n",
        "# Calculate MAE for the first and last 6 months\n",
        "first_half = df_capped[df_capped[\"Date\"] < df_capped[\"Date\"].median()]\n",
        "second_half = df_capped[df_capped[\"Date\"] >= df_capped[\"Date\"].median()]\n",
        "\n",
        "mae_first = mean_absolute_error(first_half[\"Units Sold\"], first_half[\"Demand Forecast\"])\n",
        "mae_second = mean_absolute_error(second_half[\"Units Sold\"], second_half[\"Demand Forecast\"])\n",
        "\n",
        "# Print results\n",
        "print(f\"MAE (First Half): {mae_first}\")\n",
        "print(f\"MAE (Second Half): {mae_second}\")\n",
        "\n",
        "# Interpretation\n",
        "if mae_second < mae_first:\n",
        "    print(\"Reject H₀: Forecast accuracy has improved over time.\")\n",
        "else:\n",
        "    print(\"Fail to reject H₀: No significant improvement in forecast accuracy.\")\n"
      ],
      "metadata": {
        "id": "QY3xtM_MYoNC",
        "colab": {
          "base_uri": "https://localhost:8080/"
        },
        "outputId": "67d11dfb-b9b4-454f-e4f2-b84ab3ea5838"
      },
      "execution_count": 17,
      "outputs": [
        {
          "output_type": "stream",
          "name": "stdout",
          "text": [
            "MAE (First Half): 8.289878150684931\n",
            "MAE (Second Half): 8.322941325136613\n",
            "Fail to reject H₀: No significant improvement in forecast accuracy.\n"
          ]
        }
      ]
    },
    {
      "cell_type": "markdown",
      "source": [
        "## Hypothesis-14 ( Log-Log Regression Model)\n",
        "H₀: Price Elasticity is not significant for product demand.\n",
        "\n",
        "H₁: Price Elasticity significantly affects demand.\n",
        "\n",
        "\n"
      ],
      "metadata": {
        "id": "voixH4ZyZK48"
      }
    },
    {
      "cell_type": "code",
      "source": [
        "import statsmodels.api as sm\n",
        "\n",
        "# Convert to log scale\n",
        "df_capped[\"log_price\"] = np.log(df_capped[\"Price\"])\n",
        "df_capped[\"log_units_sold\"] = np.log(df_capped[\"Units Sold\"])\n",
        "\n",
        "# Perform log-log regression\n",
        "X = sm.add_constant(df_capped[\"log_price\"])\n",
        "y = df_capped[\"log_units_sold\"]\n",
        "\n",
        "model = sm.OLS(y, X).fit()\n",
        "print(model.summary())\n",
        "\n",
        "# Interpretation\n",
        "if model.pvalues[\"log_price\"] < 0.05:\n",
        "    print(\"Reject H₀: Price Elasticity significantly affects demand.\")\n",
        "else:\n",
        "    print(\"Fail to reject H₀: Price Elasticity is not significant for product demand.\")\n"
      ],
      "metadata": {
        "id": "bKMe_KVFZSCB",
        "colab": {
          "base_uri": "https://localhost:8080/"
        },
        "outputId": "5eaac569-a443-4b9f-ce19-a631c5d67499"
      },
      "execution_count": 19,
      "outputs": [
        {
          "output_type": "stream",
          "name": "stdout",
          "text": [
            "                            OLS Regression Results                            \n",
            "==============================================================================\n",
            "Dep. Variable:         log_units_sold   R-squared:                         nan\n",
            "Model:                            OLS   Adj. R-squared:                    nan\n",
            "Method:                 Least Squares   F-statistic:                       nan\n",
            "Date:                Sat, 22 Feb 2025   Prob (F-statistic):                nan\n",
            "Time:                        04:57:04   Log-Likelihood:                    nan\n",
            "No. Observations:               73100   AIC:                               nan\n",
            "Df Residuals:                   73098   BIC:                               nan\n",
            "Df Model:                           1                                         \n",
            "Covariance Type:            nonrobust                                         \n",
            "==============================================================================\n",
            "                 coef    std err          t      P>|t|      [0.025      0.975]\n",
            "------------------------------------------------------------------------------\n",
            "const             nan        nan        nan        nan         nan         nan\n",
            "log_price         nan        nan        nan        nan         nan         nan\n",
            "==============================================================================\n",
            "Omnibus:                          nan   Durbin-Watson:                     nan\n",
            "Prob(Omnibus):                    nan   Jarque-Bera (JB):                  nan\n",
            "Skew:                             nan   Prob(JB):                          nan\n",
            "Kurtosis:                         nan   Cond. No.                         27.6\n",
            "==============================================================================\n",
            "\n",
            "Notes:\n",
            "[1] Standard Errors assume that the covariance matrix of the errors is correctly specified.\n",
            "Fail to reject H₀: Price Elasticity is not significant for product demand.\n"
          ]
        },
        {
          "output_type": "stream",
          "name": "stderr",
          "text": [
            "/usr/local/lib/python3.11/dist-packages/pandas/core/arraylike.py:399: RuntimeWarning: divide by zero encountered in log\n",
            "  result = getattr(ufunc, method)(*inputs, **kwargs)\n",
            "/usr/local/lib/python3.11/dist-packages/statsmodels/regression/linear_model.py:1733: RuntimeWarning: invalid value encountered in subtract\n",
            "  return np.sum(weights * (model.endog - mean)**2)\n"
          ]
        }
      ]
    },
    {
      "cell_type": "markdown",
      "source": [
        "## Hypothesis-15 ( Levene’s Test)\n",
        "H₀: Sales variance is equal across different Stores.\n",
        "\n",
        "H₁: Sales variance differs significantly across Stores.\n"
      ],
      "metadata": {
        "id": "7DBE6LJlZSgf"
      }
    },
    {
      "cell_type": "code",
      "source": [
        "from scipy.stats import levene\n",
        "\n",
        "# Group sales data by store\n",
        "stores = df_capped.groupby(\"Store ID\")[\"Units Sold\"].apply(list)\n",
        "\n",
        "# Perform Levene’s test\n",
        "stat, p_value = levene(*stores)\n",
        "\n",
        "# Print results\n",
        "print(f\"Levene’s Test Statistic: {stat}\")\n",
        "print(f\"P-value: {p_value}\")\n",
        "\n",
        "# Interpretation\n",
        "if p_value < 0.05:\n",
        "    print(\"Reject H₀: Sales variance differs significantly across Stores.\")\n",
        "else:\n",
        "    print(\"Fail to reject H₀: Sales variance is equal across Stores.\")\n"
      ],
      "metadata": {
        "id": "BiCZh-sjZYgV",
        "colab": {
          "base_uri": "https://localhost:8080/"
        },
        "outputId": "f2194908-c1ce-4eeb-8c0e-1d8b9581da4b"
      },
      "execution_count": 20,
      "outputs": [
        {
          "output_type": "stream",
          "name": "stdout",
          "text": [
            "Levene’s Test Statistic: 1.6337800926686756\n",
            "P-value: 0.16260354213686695\n",
            "Fail to reject H₀: Sales variance is equal across Stores.\n"
          ]
        }
      ]
    }
  ]
}